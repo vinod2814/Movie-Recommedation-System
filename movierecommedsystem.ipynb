{
 "cells": [
  {
   "cell_type": "markdown",
   "metadata": {},
   "source": [
    "# Content Filtering"
   ]
  },
  {
   "cell_type": "markdown",
   "metadata": {},
   "source": [
    "## Importing Libraries and loading data"
   ]
  },
  {
   "cell_type": "code",
   "execution_count": 66,
   "metadata": {},
   "outputs": [],
   "source": [
    "import pandas as pd\n",
    "import numpy as np\n",
    "import matplotlib.pyplot as plt"
   ]
  },
  {
   "cell_type": "code",
   "execution_count": 67,
   "metadata": {},
   "outputs": [],
   "source": [
    "#reading movie file\n",
    "movie_df = pd.read_csv(\"movies.csv\")"
   ]
  },
  {
   "cell_type": "code",
   "execution_count": 68,
   "metadata": {},
   "outputs": [
    {
     "data": {
      "text/html": [
       "<div>\n",
       "<style scoped>\n",
       "    .dataframe tbody tr th:only-of-type {\n",
       "        vertical-align: middle;\n",
       "    }\n",
       "\n",
       "    .dataframe tbody tr th {\n",
       "        vertical-align: top;\n",
       "    }\n",
       "\n",
       "    .dataframe thead th {\n",
       "        text-align: right;\n",
       "    }\n",
       "</style>\n",
       "<table border=\"1\" class=\"dataframe\">\n",
       "  <thead>\n",
       "    <tr style=\"text-align: right;\">\n",
       "      <th></th>\n",
       "      <th>movieId</th>\n",
       "      <th>title</th>\n",
       "      <th>genres</th>\n",
       "    </tr>\n",
       "  </thead>\n",
       "  <tbody>\n",
       "    <tr>\n",
       "      <th>0</th>\n",
       "      <td>1</td>\n",
       "      <td>Toy Story</td>\n",
       "      <td>Adventure|Animation|Children|Comedy|Fantasy</td>\n",
       "    </tr>\n",
       "    <tr>\n",
       "      <th>1</th>\n",
       "      <td>2</td>\n",
       "      <td>Jumanji</td>\n",
       "      <td>Adventure|Children|Fantasy</td>\n",
       "    </tr>\n",
       "    <tr>\n",
       "      <th>2</th>\n",
       "      <td>3</td>\n",
       "      <td>Grumpier Old Men</td>\n",
       "      <td>Comedy|Romance</td>\n",
       "    </tr>\n",
       "    <tr>\n",
       "      <th>3</th>\n",
       "      <td>4</td>\n",
       "      <td>Waiting to Exhale</td>\n",
       "      <td>Comedy|Drama|Romance</td>\n",
       "    </tr>\n",
       "    <tr>\n",
       "      <th>4</th>\n",
       "      <td>5</td>\n",
       "      <td>Father of the Bride Part II</td>\n",
       "      <td>Comedy</td>\n",
       "    </tr>\n",
       "    <tr>\n",
       "      <th>5</th>\n",
       "      <td>6</td>\n",
       "      <td>Heat</td>\n",
       "      <td>Action|Crime|Thriller</td>\n",
       "    </tr>\n",
       "    <tr>\n",
       "      <th>6</th>\n",
       "      <td>7</td>\n",
       "      <td>Sabrina</td>\n",
       "      <td>Comedy|Romance</td>\n",
       "    </tr>\n",
       "    <tr>\n",
       "      <th>7</th>\n",
       "      <td>8</td>\n",
       "      <td>Tom and Huck</td>\n",
       "      <td>Adventure|Children</td>\n",
       "    </tr>\n",
       "    <tr>\n",
       "      <th>8</th>\n",
       "      <td>9</td>\n",
       "      <td>Sudden Death</td>\n",
       "      <td>Action</td>\n",
       "    </tr>\n",
       "    <tr>\n",
       "      <th>9</th>\n",
       "      <td>10</td>\n",
       "      <td>GoldenEye</td>\n",
       "      <td>Action|Adventure|Thriller</td>\n",
       "    </tr>\n",
       "  </tbody>\n",
       "</table>\n",
       "</div>"
      ],
      "text/plain": [
       "   movieId                         title  \\\n",
       "0        1                    Toy Story    \n",
       "1        2                      Jumanji    \n",
       "2        3             Grumpier Old Men    \n",
       "3        4            Waiting to Exhale    \n",
       "4        5  Father of the Bride Part II    \n",
       "5        6                         Heat    \n",
       "6        7                      Sabrina    \n",
       "7        8                 Tom and Huck    \n",
       "8        9                 Sudden Death    \n",
       "9       10                    GoldenEye    \n",
       "\n",
       "                                        genres  \n",
       "0  Adventure|Animation|Children|Comedy|Fantasy  \n",
       "1                   Adventure|Children|Fantasy  \n",
       "2                               Comedy|Romance  \n",
       "3                         Comedy|Drama|Romance  \n",
       "4                                       Comedy  \n",
       "5                        Action|Crime|Thriller  \n",
       "6                               Comedy|Romance  \n",
       "7                           Adventure|Children  \n",
       "8                                       Action  \n",
       "9                    Action|Adventure|Thriller  "
      ]
     },
     "execution_count": 68,
     "metadata": {},
     "output_type": "execute_result"
    }
   ],
   "source": [
    "movie_df.head(10)"
   ]
  },
  {
   "cell_type": "code",
   "execution_count": 104,
   "metadata": {},
   "outputs": [],
   "source": [
    "# Break up the big genre string into a string array\n",
    "movie_df['genres'] = movie_df['genres'].str.split('|')\n",
    "\n",
    "# convert genre to string value\n",
    "movie_df['genres'] = movie_df['genres'].fillna(\"\").astype('str')"
   ]
  },
  {
   "cell_type": "code",
   "execution_count": 70,
   "metadata": {},
   "outputs": [
    {
     "data": {
      "text/html": [
       "<div>\n",
       "<style scoped>\n",
       "    .dataframe tbody tr th:only-of-type {\n",
       "        vertical-align: middle;\n",
       "    }\n",
       "\n",
       "    .dataframe tbody tr th {\n",
       "        vertical-align: top;\n",
       "    }\n",
       "\n",
       "    .dataframe thead th {\n",
       "        text-align: right;\n",
       "    }\n",
       "</style>\n",
       "<table border=\"1\" class=\"dataframe\">\n",
       "  <thead>\n",
       "    <tr style=\"text-align: right;\">\n",
       "      <th></th>\n",
       "      <th>movieId</th>\n",
       "      <th>title</th>\n",
       "      <th>genres</th>\n",
       "    </tr>\n",
       "  </thead>\n",
       "  <tbody>\n",
       "    <tr>\n",
       "      <th>0</th>\n",
       "      <td>1</td>\n",
       "      <td>Toy Story</td>\n",
       "      <td>['Adventure', 'Animation', 'Children', 'Comedy...</td>\n",
       "    </tr>\n",
       "    <tr>\n",
       "      <th>1</th>\n",
       "      <td>2</td>\n",
       "      <td>Jumanji</td>\n",
       "      <td>['Adventure', 'Children', 'Fantasy']</td>\n",
       "    </tr>\n",
       "    <tr>\n",
       "      <th>2</th>\n",
       "      <td>3</td>\n",
       "      <td>Grumpier Old Men</td>\n",
       "      <td>['Comedy', 'Romance']</td>\n",
       "    </tr>\n",
       "    <tr>\n",
       "      <th>3</th>\n",
       "      <td>4</td>\n",
       "      <td>Waiting to Exhale</td>\n",
       "      <td>['Comedy', 'Drama', 'Romance']</td>\n",
       "    </tr>\n",
       "    <tr>\n",
       "      <th>4</th>\n",
       "      <td>5</td>\n",
       "      <td>Father of the Bride Part II</td>\n",
       "      <td>['Comedy']</td>\n",
       "    </tr>\n",
       "  </tbody>\n",
       "</table>\n",
       "</div>"
      ],
      "text/plain": [
       "   movieId                         title  \\\n",
       "0        1                    Toy Story    \n",
       "1        2                      Jumanji    \n",
       "2        3             Grumpier Old Men    \n",
       "3        4            Waiting to Exhale    \n",
       "4        5  Father of the Bride Part II    \n",
       "\n",
       "                                              genres  \n",
       "0  ['Adventure', 'Animation', 'Children', 'Comedy...  \n",
       "1               ['Adventure', 'Children', 'Fantasy']  \n",
       "2                              ['Comedy', 'Romance']  \n",
       "3                     ['Comedy', 'Drama', 'Romance']  \n",
       "4                                         ['Comedy']  "
      ]
     },
     "execution_count": 70,
     "metadata": {},
     "output_type": "execute_result"
    }
   ],
   "source": [
    "movie_df.head()"
   ]
  },
  {
   "cell_type": "markdown",
   "metadata": {},
   "source": [
    "## Example with TF-IDF Implementation with python (Mannually)"
   ]
  },
  {
   "cell_type": "code",
   "execution_count": 173,
   "metadata": {},
   "outputs": [
    {
     "name": "stdout",
     "output_type": "stream",
     "text": [
      "{'around': 0, 'went': 1, 'the': 1, 'sat': 0, 'fire': 0, 'out': 1, 'for': 1, 'children': 0, 'a': 1, 'walk': 1, 'man': 1}\n",
      "{'around': 1, 'went': 0, 'the': 2, 'sat': 1, 'fire': 1, 'out': 0, 'for': 0, 'children': 1, 'a': 0, 'walk': 0, 'man': 0}\n"
     ]
    }
   ],
   "source": [
    "# Two simple documents containing one sentence each.\n",
    "\n",
    "documentA = 'the man went out for a walk'\n",
    "documentB = 'the children sat around the fire'\n",
    "\n",
    "# splite sentence based on space\n",
    "bowA = documentA.split(' ')\n",
    "bowB = documentB.split(' ')\n",
    "\n",
    "# find unique words in both the sentence\n",
    "unique_words = set(bowA).union(set(bowB))\n",
    "\n",
    "# create dictionary of words and their occurence for each document.\n",
    "numOfWordsA = dict.fromkeys(unique_words, 0)\n",
    "for word in bowA:\n",
    "    numOfWordsA[word] += 1; \n",
    "    \n",
    "# create dictionary of words and their occurence for each document.    \n",
    "numOfWordsB = dict.fromkeys(unique_words, 0)    \n",
    "for word in bowB:\n",
    "    numOfWordsB[word] += 1;        \n",
    "\n",
    "print(numOfWordsA)\n",
    "print(numOfWordsB)\n"
   ]
  },
  {
   "cell_type": "markdown",
   "metadata": {},
   "source": [
    "### Term Frequency (TF)"
   ]
  },
  {
   "cell_type": "code",
   "execution_count": 185,
   "metadata": {},
   "outputs": [],
   "source": [
    "# compute TF\n",
    "def computeTF(wordDict, bag_of_words):\n",
    "    print(wordDict, bag_of_words)\n",
    "    tfDict = {}\n",
    "    bag_of_words_count = len(bag_of_words)\n",
    "    print(bag_of_words_count)\n",
    "    for word, count in wordDict.items():\n",
    "        #print(word,count)\n",
    "        tfDict[word] = count / float(bag_of_words_count)\n",
    "    return tfDict        "
   ]
  },
  {
   "cell_type": "code",
   "execution_count": 186,
   "metadata": {},
   "outputs": [
    {
     "name": "stdout",
     "output_type": "stream",
     "text": [
      "{'around': 0, 'went': 1, 'the': 1, 'sat': 0, 'fire': 0, 'out': 1, 'for': 1, 'children': 0, 'a': 1, 'walk': 1, 'man': 1} ['the', 'man', 'went', 'out', 'for', 'a', 'walk']\n",
      "7\n",
      "{'around': 1, 'went': 0, 'the': 2, 'sat': 1, 'fire': 1, 'out': 0, 'for': 0, 'children': 1, 'a': 0, 'walk': 0, 'man': 0} ['the', 'children', 'sat', 'around', 'the', 'fire']\n",
      "6\n",
      "{'around': 0.0, 'went': 0.14285714285714285, 'the': 0.14285714285714285, 'sat': 0.0, 'fire': 0.0, 'out': 0.14285714285714285, 'for': 0.14285714285714285, 'children': 0.0, 'a': 0.14285714285714285, 'walk': 0.14285714285714285, 'man': 0.14285714285714285}\n",
      "{'around': 0.16666666666666666, 'went': 0.0, 'the': 0.3333333333333333, 'sat': 0.16666666666666666, 'fire': 0.16666666666666666, 'out': 0.0, 'for': 0.0, 'children': 0.16666666666666666, 'a': 0.0, 'walk': 0.0, 'man': 0.0}\n"
     ]
    }
   ],
   "source": [
    "tf_A = computeTF(numOfWordsA,bowA)\n",
    "tf_B = computeTF(numOfWordsB,bowB)\n",
    "\n",
    "print(tf_A)\n",
    "print(tf_B)\n"
   ]
  },
  {
   "cell_type": "markdown",
   "metadata": {},
   "source": [
    "### Inverse Data Frequency (IDF)"
   ]
  },
  {
   "cell_type": "code",
   "execution_count": 155,
   "metadata": {},
   "outputs": [],
   "source": [
    "def computeIDF(documents):\n",
    "    import math\n",
    "    N = len(documents)\n",
    "    \n",
    "    idfDict = dict.fromkeys(documents[0].keys(), 0)\n",
    "    for document in documents:\n",
    "        for word, val in document.items():\n",
    "            if val > 0:\n",
    "                idfDict[word] += 1\n",
    "                \n",
    "    for word, val in idfDict.items():\n",
    "        idfDict[word] = math.log(N / float(val))           \n",
    "    \n",
    "    return idfDict"
   ]
  },
  {
   "cell_type": "code",
   "execution_count": 158,
   "metadata": {},
   "outputs": [
    {
     "data": {
      "text/plain": [
       "{'around': 0.6931471805599453,\n",
       " 'went': 0.6931471805599453,\n",
       " 'the': 0.0,\n",
       " 'sat': 0.6931471805599453,\n",
       " 'fire': 0.6931471805599453,\n",
       " 'out': 0.6931471805599453,\n",
       " 'for': 0.6931471805599453,\n",
       " 'children': 0.6931471805599453,\n",
       " 'a': 0.6931471805599453,\n",
       " 'walk': 0.6931471805599453,\n",
       " 'man': 0.6931471805599453}"
      ]
     },
     "execution_count": 158,
     "metadata": {},
     "output_type": "execute_result"
    }
   ],
   "source": [
    "idfs = computeIDF([numOfWordsA,numOfWordsB])\n",
    "idfs"
   ]
  },
  {
   "cell_type": "markdown",
   "metadata": {},
   "source": [
    "### TF-IDF"
   ]
  },
  {
   "cell_type": "code",
   "execution_count": 162,
   "metadata": {},
   "outputs": [],
   "source": [
    "def computeTFIDF(tf_bag_of_words, idfs):\n",
    "    tfidf = {}\n",
    "    for word, val in tf_bag_of_words.items():\n",
    "        tfidf[word] = val * idfs[word]\n",
    "    return tfidf    "
   ]
  },
  {
   "cell_type": "code",
   "execution_count": 164,
   "metadata": {},
   "outputs": [
    {
     "data": {
      "text/html": [
       "<div>\n",
       "<style scoped>\n",
       "    .dataframe tbody tr th:only-of-type {\n",
       "        vertical-align: middle;\n",
       "    }\n",
       "\n",
       "    .dataframe tbody tr th {\n",
       "        vertical-align: top;\n",
       "    }\n",
       "\n",
       "    .dataframe thead th {\n",
       "        text-align: right;\n",
       "    }\n",
       "</style>\n",
       "<table border=\"1\" class=\"dataframe\">\n",
       "  <thead>\n",
       "    <tr style=\"text-align: right;\">\n",
       "      <th></th>\n",
       "      <th>around</th>\n",
       "      <th>went</th>\n",
       "      <th>the</th>\n",
       "      <th>sat</th>\n",
       "      <th>fire</th>\n",
       "      <th>out</th>\n",
       "      <th>for</th>\n",
       "      <th>children</th>\n",
       "      <th>a</th>\n",
       "      <th>walk</th>\n",
       "      <th>man</th>\n",
       "    </tr>\n",
       "  </thead>\n",
       "  <tbody>\n",
       "    <tr>\n",
       "      <th>0</th>\n",
       "      <td>0.000000</td>\n",
       "      <td>0.063013</td>\n",
       "      <td>0.0</td>\n",
       "      <td>0.000000</td>\n",
       "      <td>0.000000</td>\n",
       "      <td>0.063013</td>\n",
       "      <td>0.063013</td>\n",
       "      <td>0.000000</td>\n",
       "      <td>0.063013</td>\n",
       "      <td>0.063013</td>\n",
       "      <td>0.063013</td>\n",
       "    </tr>\n",
       "    <tr>\n",
       "      <th>1</th>\n",
       "      <td>0.063013</td>\n",
       "      <td>0.000000</td>\n",
       "      <td>0.0</td>\n",
       "      <td>0.063013</td>\n",
       "      <td>0.063013</td>\n",
       "      <td>0.000000</td>\n",
       "      <td>0.000000</td>\n",
       "      <td>0.063013</td>\n",
       "      <td>0.000000</td>\n",
       "      <td>0.000000</td>\n",
       "      <td>0.000000</td>\n",
       "    </tr>\n",
       "  </tbody>\n",
       "</table>\n",
       "</div>"
      ],
      "text/plain": [
       "     around      went  the       sat      fire       out       for  children  \\\n",
       "0  0.000000  0.063013  0.0  0.000000  0.000000  0.063013  0.063013  0.000000   \n",
       "1  0.063013  0.000000  0.0  0.063013  0.063013  0.000000  0.000000  0.063013   \n",
       "\n",
       "          a      walk       man  \n",
       "0  0.063013  0.063013  0.063013  \n",
       "1  0.000000  0.000000  0.000000  "
      ]
     },
     "execution_count": 164,
     "metadata": {},
     "output_type": "execute_result"
    }
   ],
   "source": [
    "# Compute the TF-IDF scores for all the words\n",
    "tfidf_A = computeTFIDF(tf_A,idfs)\n",
    "tfidf_B = computeTFIDF(tf_B,idfs)\n",
    "\n",
    "df = pd.DataFrame([tfidf_A,tfidf_B])\n",
    "\n",
    "df\n"
   ]
  },
  {
   "cell_type": "markdown",
   "metadata": {},
   "source": [
    "#### Rather than manually implementing TF-IDF ourselves, we could use the class provided by sklearn. The values differ slightly because sklearn uses a smoothed version idf and various other little optimizations."
   ]
  },
  {
   "cell_type": "code",
   "execution_count": 168,
   "metadata": {},
   "outputs": [],
   "source": [
    "from sklearn.feature_extraction.text import TfidfVectorizer"
   ]
  },
  {
   "cell_type": "code",
   "execution_count": 167,
   "metadata": {},
   "outputs": [
    {
     "data": {
      "text/html": [
       "<div>\n",
       "<style scoped>\n",
       "    .dataframe tbody tr th:only-of-type {\n",
       "        vertical-align: middle;\n",
       "    }\n",
       "\n",
       "    .dataframe tbody tr th {\n",
       "        vertical-align: top;\n",
       "    }\n",
       "\n",
       "    .dataframe thead th {\n",
       "        text-align: right;\n",
       "    }\n",
       "</style>\n",
       "<table border=\"1\" class=\"dataframe\">\n",
       "  <thead>\n",
       "    <tr style=\"text-align: right;\">\n",
       "      <th></th>\n",
       "      <th>around</th>\n",
       "      <th>children</th>\n",
       "      <th>fire</th>\n",
       "      <th>for</th>\n",
       "      <th>man</th>\n",
       "      <th>out</th>\n",
       "      <th>sat</th>\n",
       "      <th>the</th>\n",
       "      <th>walk</th>\n",
       "      <th>went</th>\n",
       "    </tr>\n",
       "  </thead>\n",
       "  <tbody>\n",
       "    <tr>\n",
       "      <th>0</th>\n",
       "      <td>0.000000</td>\n",
       "      <td>0.000000</td>\n",
       "      <td>0.000000</td>\n",
       "      <td>0.42616</td>\n",
       "      <td>0.42616</td>\n",
       "      <td>0.42616</td>\n",
       "      <td>0.000000</td>\n",
       "      <td>0.303216</td>\n",
       "      <td>0.42616</td>\n",
       "      <td>0.42616</td>\n",
       "    </tr>\n",
       "    <tr>\n",
       "      <th>1</th>\n",
       "      <td>0.407401</td>\n",
       "      <td>0.407401</td>\n",
       "      <td>0.407401</td>\n",
       "      <td>0.00000</td>\n",
       "      <td>0.00000</td>\n",
       "      <td>0.00000</td>\n",
       "      <td>0.407401</td>\n",
       "      <td>0.579739</td>\n",
       "      <td>0.00000</td>\n",
       "      <td>0.00000</td>\n",
       "    </tr>\n",
       "  </tbody>\n",
       "</table>\n",
       "</div>"
      ],
      "text/plain": [
       "     around  children      fire      for      man      out       sat  \\\n",
       "0  0.000000  0.000000  0.000000  0.42616  0.42616  0.42616  0.000000   \n",
       "1  0.407401  0.407401  0.407401  0.00000  0.00000  0.00000  0.407401   \n",
       "\n",
       "        the     walk     went  \n",
       "0  0.303216  0.42616  0.42616  \n",
       "1  0.579739  0.00000  0.00000  "
      ]
     },
     "execution_count": 167,
     "metadata": {},
     "output_type": "execute_result"
    }
   ],
   "source": [
    "vectorizer = TfidfVectorizer()\n",
    "vectors = vectorizer.fit_transform([documentA, documentB])\n",
    "feature_names = vectorizer.get_feature_names()\n",
    "dense = vectors.todense()\n",
    "denselist = dense.tolist()\n",
    "df = pd.DataFrame(denselist, columns=feature_names)\n",
    "df"
   ]
  },
  {
   "cell_type": "markdown",
   "metadata": {},
   "source": [
    "## Recommandation based on genre"
   ]
  },
  {
   "cell_type": "code",
   "execution_count": 108,
   "metadata": {},
   "outputs": [
    {
     "data": {
      "text/html": [
       "<div>\n",
       "<style scoped>\n",
       "    .dataframe tbody tr th:only-of-type {\n",
       "        vertical-align: middle;\n",
       "    }\n",
       "\n",
       "    .dataframe tbody tr th {\n",
       "        vertical-align: top;\n",
       "    }\n",
       "\n",
       "    .dataframe thead th {\n",
       "        text-align: right;\n",
       "    }\n",
       "</style>\n",
       "<table border=\"1\" class=\"dataframe\">\n",
       "  <thead>\n",
       "    <tr style=\"text-align: right;\">\n",
       "      <th></th>\n",
       "      <th>action</th>\n",
       "      <th>action adventure</th>\n",
       "      <th>action animation</th>\n",
       "      <th>action children</th>\n",
       "      <th>action comedy</th>\n",
       "      <th>action crime</th>\n",
       "      <th>action documentary</th>\n",
       "      <th>action drama</th>\n",
       "      <th>action fantasy</th>\n",
       "      <th>action horror</th>\n",
       "      <th>...</th>\n",
       "      <th>sci fi</th>\n",
       "      <th>thriller</th>\n",
       "      <th>thriller imax</th>\n",
       "      <th>thriller war</th>\n",
       "      <th>thriller western</th>\n",
       "      <th>war</th>\n",
       "      <th>war imax</th>\n",
       "      <th>war western</th>\n",
       "      <th>western</th>\n",
       "      <th>western imax</th>\n",
       "    </tr>\n",
       "  </thead>\n",
       "  <tbody>\n",
       "    <tr>\n",
       "      <th>0</th>\n",
       "      <td>0.000000</td>\n",
       "      <td>0.0</td>\n",
       "      <td>0.000000</td>\n",
       "      <td>0.0</td>\n",
       "      <td>0.0</td>\n",
       "      <td>0.0</td>\n",
       "      <td>0.0</td>\n",
       "      <td>0.0</td>\n",
       "      <td>0.0</td>\n",
       "      <td>0.0</td>\n",
       "      <td>...</td>\n",
       "      <td>0.0</td>\n",
       "      <td>0.0</td>\n",
       "      <td>0.0</td>\n",
       "      <td>0.0</td>\n",
       "      <td>0.0</td>\n",
       "      <td>0.0</td>\n",
       "      <td>0.0</td>\n",
       "      <td>0.0</td>\n",
       "      <td>0.0</td>\n",
       "      <td>0.0</td>\n",
       "    </tr>\n",
       "    <tr>\n",
       "      <th>1</th>\n",
       "      <td>0.000000</td>\n",
       "      <td>0.0</td>\n",
       "      <td>0.000000</td>\n",
       "      <td>0.0</td>\n",
       "      <td>0.0</td>\n",
       "      <td>0.0</td>\n",
       "      <td>0.0</td>\n",
       "      <td>0.0</td>\n",
       "      <td>0.0</td>\n",
       "      <td>0.0</td>\n",
       "      <td>...</td>\n",
       "      <td>0.0</td>\n",
       "      <td>0.0</td>\n",
       "      <td>0.0</td>\n",
       "      <td>0.0</td>\n",
       "      <td>0.0</td>\n",
       "      <td>0.0</td>\n",
       "      <td>0.0</td>\n",
       "      <td>0.0</td>\n",
       "      <td>0.0</td>\n",
       "      <td>0.0</td>\n",
       "    </tr>\n",
       "    <tr>\n",
       "      <th>2</th>\n",
       "      <td>0.000000</td>\n",
       "      <td>0.0</td>\n",
       "      <td>0.000000</td>\n",
       "      <td>0.0</td>\n",
       "      <td>0.0</td>\n",
       "      <td>0.0</td>\n",
       "      <td>0.0</td>\n",
       "      <td>0.0</td>\n",
       "      <td>0.0</td>\n",
       "      <td>0.0</td>\n",
       "      <td>...</td>\n",
       "      <td>0.0</td>\n",
       "      <td>0.0</td>\n",
       "      <td>0.0</td>\n",
       "      <td>0.0</td>\n",
       "      <td>0.0</td>\n",
       "      <td>0.0</td>\n",
       "      <td>0.0</td>\n",
       "      <td>0.0</td>\n",
       "      <td>0.0</td>\n",
       "      <td>0.0</td>\n",
       "    </tr>\n",
       "    <tr>\n",
       "      <th>3</th>\n",
       "      <td>0.000000</td>\n",
       "      <td>0.0</td>\n",
       "      <td>0.000000</td>\n",
       "      <td>0.0</td>\n",
       "      <td>0.0</td>\n",
       "      <td>0.0</td>\n",
       "      <td>0.0</td>\n",
       "      <td>0.0</td>\n",
       "      <td>0.0</td>\n",
       "      <td>0.0</td>\n",
       "      <td>...</td>\n",
       "      <td>0.0</td>\n",
       "      <td>0.0</td>\n",
       "      <td>0.0</td>\n",
       "      <td>0.0</td>\n",
       "      <td>0.0</td>\n",
       "      <td>0.0</td>\n",
       "      <td>0.0</td>\n",
       "      <td>0.0</td>\n",
       "      <td>0.0</td>\n",
       "      <td>0.0</td>\n",
       "    </tr>\n",
       "    <tr>\n",
       "      <th>4</th>\n",
       "      <td>0.000000</td>\n",
       "      <td>0.0</td>\n",
       "      <td>0.000000</td>\n",
       "      <td>0.0</td>\n",
       "      <td>0.0</td>\n",
       "      <td>0.0</td>\n",
       "      <td>0.0</td>\n",
       "      <td>0.0</td>\n",
       "      <td>0.0</td>\n",
       "      <td>0.0</td>\n",
       "      <td>...</td>\n",
       "      <td>0.0</td>\n",
       "      <td>0.0</td>\n",
       "      <td>0.0</td>\n",
       "      <td>0.0</td>\n",
       "      <td>0.0</td>\n",
       "      <td>0.0</td>\n",
       "      <td>0.0</td>\n",
       "      <td>0.0</td>\n",
       "      <td>0.0</td>\n",
       "      <td>0.0</td>\n",
       "    </tr>\n",
       "    <tr>\n",
       "      <th>...</th>\n",
       "      <td>...</td>\n",
       "      <td>...</td>\n",
       "      <td>...</td>\n",
       "      <td>...</td>\n",
       "      <td>...</td>\n",
       "      <td>...</td>\n",
       "      <td>...</td>\n",
       "      <td>...</td>\n",
       "      <td>...</td>\n",
       "      <td>...</td>\n",
       "      <td>...</td>\n",
       "      <td>...</td>\n",
       "      <td>...</td>\n",
       "      <td>...</td>\n",
       "      <td>...</td>\n",
       "      <td>...</td>\n",
       "      <td>...</td>\n",
       "      <td>...</td>\n",
       "      <td>...</td>\n",
       "      <td>...</td>\n",
       "      <td>...</td>\n",
       "    </tr>\n",
       "    <tr>\n",
       "      <th>9737</th>\n",
       "      <td>0.238499</td>\n",
       "      <td>0.0</td>\n",
       "      <td>0.533576</td>\n",
       "      <td>0.0</td>\n",
       "      <td>0.0</td>\n",
       "      <td>0.0</td>\n",
       "      <td>0.0</td>\n",
       "      <td>0.0</td>\n",
       "      <td>0.0</td>\n",
       "      <td>0.0</td>\n",
       "      <td>...</td>\n",
       "      <td>0.0</td>\n",
       "      <td>0.0</td>\n",
       "      <td>0.0</td>\n",
       "      <td>0.0</td>\n",
       "      <td>0.0</td>\n",
       "      <td>0.0</td>\n",
       "      <td>0.0</td>\n",
       "      <td>0.0</td>\n",
       "      <td>0.0</td>\n",
       "      <td>0.0</td>\n",
       "    </tr>\n",
       "    <tr>\n",
       "      <th>9738</th>\n",
       "      <td>0.000000</td>\n",
       "      <td>0.0</td>\n",
       "      <td>0.000000</td>\n",
       "      <td>0.0</td>\n",
       "      <td>0.0</td>\n",
       "      <td>0.0</td>\n",
       "      <td>0.0</td>\n",
       "      <td>0.0</td>\n",
       "      <td>0.0</td>\n",
       "      <td>0.0</td>\n",
       "      <td>...</td>\n",
       "      <td>0.0</td>\n",
       "      <td>0.0</td>\n",
       "      <td>0.0</td>\n",
       "      <td>0.0</td>\n",
       "      <td>0.0</td>\n",
       "      <td>0.0</td>\n",
       "      <td>0.0</td>\n",
       "      <td>0.0</td>\n",
       "      <td>0.0</td>\n",
       "      <td>0.0</td>\n",
       "    </tr>\n",
       "    <tr>\n",
       "      <th>9739</th>\n",
       "      <td>0.000000</td>\n",
       "      <td>0.0</td>\n",
       "      <td>0.000000</td>\n",
       "      <td>0.0</td>\n",
       "      <td>0.0</td>\n",
       "      <td>0.0</td>\n",
       "      <td>0.0</td>\n",
       "      <td>0.0</td>\n",
       "      <td>0.0</td>\n",
       "      <td>0.0</td>\n",
       "      <td>...</td>\n",
       "      <td>0.0</td>\n",
       "      <td>0.0</td>\n",
       "      <td>0.0</td>\n",
       "      <td>0.0</td>\n",
       "      <td>0.0</td>\n",
       "      <td>0.0</td>\n",
       "      <td>0.0</td>\n",
       "      <td>0.0</td>\n",
       "      <td>0.0</td>\n",
       "      <td>0.0</td>\n",
       "    </tr>\n",
       "    <tr>\n",
       "      <th>9740</th>\n",
       "      <td>0.353726</td>\n",
       "      <td>0.0</td>\n",
       "      <td>0.791366</td>\n",
       "      <td>0.0</td>\n",
       "      <td>0.0</td>\n",
       "      <td>0.0</td>\n",
       "      <td>0.0</td>\n",
       "      <td>0.0</td>\n",
       "      <td>0.0</td>\n",
       "      <td>0.0</td>\n",
       "      <td>...</td>\n",
       "      <td>0.0</td>\n",
       "      <td>0.0</td>\n",
       "      <td>0.0</td>\n",
       "      <td>0.0</td>\n",
       "      <td>0.0</td>\n",
       "      <td>0.0</td>\n",
       "      <td>0.0</td>\n",
       "      <td>0.0</td>\n",
       "      <td>0.0</td>\n",
       "      <td>0.0</td>\n",
       "    </tr>\n",
       "    <tr>\n",
       "      <th>9741</th>\n",
       "      <td>0.000000</td>\n",
       "      <td>0.0</td>\n",
       "      <td>0.000000</td>\n",
       "      <td>0.0</td>\n",
       "      <td>0.0</td>\n",
       "      <td>0.0</td>\n",
       "      <td>0.0</td>\n",
       "      <td>0.0</td>\n",
       "      <td>0.0</td>\n",
       "      <td>0.0</td>\n",
       "      <td>...</td>\n",
       "      <td>0.0</td>\n",
       "      <td>0.0</td>\n",
       "      <td>0.0</td>\n",
       "      <td>0.0</td>\n",
       "      <td>0.0</td>\n",
       "      <td>0.0</td>\n",
       "      <td>0.0</td>\n",
       "      <td>0.0</td>\n",
       "      <td>0.0</td>\n",
       "      <td>0.0</td>\n",
       "    </tr>\n",
       "  </tbody>\n",
       "</table>\n",
       "<p>9742 rows × 177 columns</p>\n",
       "</div>"
      ],
      "text/plain": [
       "        action  action adventure  action animation  action children  \\\n",
       "0     0.000000               0.0          0.000000              0.0   \n",
       "1     0.000000               0.0          0.000000              0.0   \n",
       "2     0.000000               0.0          0.000000              0.0   \n",
       "3     0.000000               0.0          0.000000              0.0   \n",
       "4     0.000000               0.0          0.000000              0.0   \n",
       "...        ...               ...               ...              ...   \n",
       "9737  0.238499               0.0          0.533576              0.0   \n",
       "9738  0.000000               0.0          0.000000              0.0   \n",
       "9739  0.000000               0.0          0.000000              0.0   \n",
       "9740  0.353726               0.0          0.791366              0.0   \n",
       "9741  0.000000               0.0          0.000000              0.0   \n",
       "\n",
       "      action comedy  action crime  action documentary  action drama  \\\n",
       "0               0.0           0.0                 0.0           0.0   \n",
       "1               0.0           0.0                 0.0           0.0   \n",
       "2               0.0           0.0                 0.0           0.0   \n",
       "3               0.0           0.0                 0.0           0.0   \n",
       "4               0.0           0.0                 0.0           0.0   \n",
       "...             ...           ...                 ...           ...   \n",
       "9737            0.0           0.0                 0.0           0.0   \n",
       "9738            0.0           0.0                 0.0           0.0   \n",
       "9739            0.0           0.0                 0.0           0.0   \n",
       "9740            0.0           0.0                 0.0           0.0   \n",
       "9741            0.0           0.0                 0.0           0.0   \n",
       "\n",
       "      action fantasy  action horror  ...  sci fi  thriller  thriller imax  \\\n",
       "0                0.0            0.0  ...     0.0       0.0            0.0   \n",
       "1                0.0            0.0  ...     0.0       0.0            0.0   \n",
       "2                0.0            0.0  ...     0.0       0.0            0.0   \n",
       "3                0.0            0.0  ...     0.0       0.0            0.0   \n",
       "4                0.0            0.0  ...     0.0       0.0            0.0   \n",
       "...              ...            ...  ...     ...       ...            ...   \n",
       "9737             0.0            0.0  ...     0.0       0.0            0.0   \n",
       "9738             0.0            0.0  ...     0.0       0.0            0.0   \n",
       "9739             0.0            0.0  ...     0.0       0.0            0.0   \n",
       "9740             0.0            0.0  ...     0.0       0.0            0.0   \n",
       "9741             0.0            0.0  ...     0.0       0.0            0.0   \n",
       "\n",
       "      thriller war  thriller western  war  war imax  war western  western  \\\n",
       "0              0.0               0.0  0.0       0.0          0.0      0.0   \n",
       "1              0.0               0.0  0.0       0.0          0.0      0.0   \n",
       "2              0.0               0.0  0.0       0.0          0.0      0.0   \n",
       "3              0.0               0.0  0.0       0.0          0.0      0.0   \n",
       "4              0.0               0.0  0.0       0.0          0.0      0.0   \n",
       "...            ...               ...  ...       ...          ...      ...   \n",
       "9737           0.0               0.0  0.0       0.0          0.0      0.0   \n",
       "9738           0.0               0.0  0.0       0.0          0.0      0.0   \n",
       "9739           0.0               0.0  0.0       0.0          0.0      0.0   \n",
       "9740           0.0               0.0  0.0       0.0          0.0      0.0   \n",
       "9741           0.0               0.0  0.0       0.0          0.0      0.0   \n",
       "\n",
       "      western imax  \n",
       "0              0.0  \n",
       "1              0.0  \n",
       "2              0.0  \n",
       "3              0.0  \n",
       "4              0.0  \n",
       "...            ...  \n",
       "9737           0.0  \n",
       "9738           0.0  \n",
       "9739           0.0  \n",
       "9740           0.0  \n",
       "9741           0.0  \n",
       "\n",
       "[9742 rows x 177 columns]"
      ]
     },
     "execution_count": 108,
     "metadata": {},
     "output_type": "execute_result"
    }
   ],
   "source": [
    "from sklearn.feature_extraction.text import TfidfVectorizer\n",
    "tf = TfidfVectorizer(analyzer='word',ngram_range=(1,2),min_df=0,stop_words='english')\n",
    "tfidf_matrix = tf.fit_transform(movie_df['genres'])\n",
    "feature_names = tf.get_feature_names()\n",
    "dense = tfidf_matrix.todense()\n",
    "denselist = dense.tolist()\n",
    "df = pd.DataFrame(denselist, columns=feature_names)\n",
    "#tfidf_matrix.shape\n",
    "df\n"
   ]
  },
  {
   "cell_type": "code",
   "execution_count": 73,
   "metadata": {},
   "outputs": [
    {
     "name": "stdout",
     "output_type": "stream",
     "text": [
      "  (0, 63)\t0.4051430286389587\n",
      "  (0, 47)\t0.3681884973089335\n",
      "  (0, 34)\t0.38369482677526473\n",
      "  (0, 18)\t0.4008862821540716\n",
      "  (0, 108)\t0.30254034715329503\n",
      "  (0, 59)\t0.16761357728391116\n",
      "  (0, 46)\t0.3162303113127544\n",
      "  (0, 33)\t0.32335863498874723\n",
      "  (0, 17)\t0.26110809240797916\n",
      "  (1, 51)\t0.5795995638728872\n",
      "  (1, 19)\t0.5337814180965866\n",
      "  (1, 108)\t0.36554429536140276\n",
      "  (1, 46)\t0.382085190978399\n",
      "  (1, 17)\t0.31548378439611124\n",
      "  (2, 68)\t0.7695974416123483\n",
      "  (2, 160)\t0.5242383036039113\n",
      "  (2, 59)\t0.36454626441402677\n",
      "  (3, 103)\t0.5645649298589199\n",
      "  (3, 62)\t0.5417511322516687\n",
      "  (3, 96)\t0.2904365851652309\n",
      "  (3, 160)\t0.4522400920963429\n",
      "  (3, 59)\t0.31447995130958456\n",
      "  (4, 59)\t1.0\n",
      "  (5, 84)\t0.604518892749723\n",
      "  (5, 5)\t0.5454388121871825\n",
      "  :\t:\n",
      "  (9733, 38)\t0.835677806885533\n",
      "  (9733, 96)\t0.23714974930952545\n",
      "  (9733, 33)\t0.495381266784903\n",
      "  (9734, 62)\t0.7846149876753742\n",
      "  (9734, 96)\t0.42063760299449465\n",
      "  (9734, 59)\t0.4554594691761476\n",
      "  (9735, 33)\t1.0\n",
      "  (9736, 86)\t1.0\n",
      "  (9737, 2)\t0.5335755137706529\n",
      "  (9737, 35)\t0.48852761033721437\n",
      "  (9737, 0)\t0.23849873017217763\n",
      "  (9737, 63)\t0.4212194165327047\n",
      "  (9737, 108)\t0.31454538150050887\n",
      "  (9737, 59)\t0.17426461332352133\n",
      "  (9737, 33)\t0.33618975505598625\n",
      "  (9738, 35)\t0.6020590403453507\n",
      "  (9738, 63)\t0.5191087511255665\n",
      "  (9738, 108)\t0.3876441914931675\n",
      "  (9738, 59)\t0.21476285811418472\n",
      "  (9738, 33)\t0.4143186117223373\n",
      "  (9739, 96)\t1.0\n",
      "  (9740, 2)\t0.7913659180854576\n",
      "  (9740, 0)\t0.3537264392646911\n",
      "  (9740, 33)\t0.4986156734980192\n",
      "  (9741, 59)\t1.0\n"
     ]
    }
   ],
   "source": [
    "print(tfidf_matrix)"
   ]
  },
  {
   "cell_type": "code",
   "execution_count": 74,
   "metadata": {},
   "outputs": [
    {
     "data": {
      "text/plain": [
       "array([[1.        , 0.31379419, 0.0611029 , 0.05271111],\n",
       "       [0.31379419, 1.        , 0.        , 0.        ],\n",
       "       [0.0611029 , 0.        , 1.        , 0.35172407],\n",
       "       [0.05271111, 0.        , 0.35172407, 1.        ]])"
      ]
     },
     "execution_count": 74,
     "metadata": {},
     "output_type": "execute_result"
    }
   ],
   "source": [
    "from sklearn.metrics.pairwise import cosine_similarity\n",
    "cosine_sim = cosine_similarity(tfidf_matrix,tfidf_matrix)\n",
    "cosine_sim[:4,:4]"
   ]
  },
  {
   "cell_type": "code",
   "execution_count": 75,
   "metadata": {},
   "outputs": [
    {
     "name": "stdout",
     "output_type": "stream",
     "text": [
      "[[1.         0.31379419 0.0611029  ... 0.         0.16123168 0.16761358]\n",
      " [0.31379419 1.         0.         ... 0.         0.         0.        ]\n",
      " [0.0611029  0.         1.         ... 0.         0.         0.36454626]\n",
      " ...\n",
      " [0.         0.         0.         ... 1.         0.         0.        ]\n",
      " [0.16123168 0.         0.         ... 0.         1.         0.        ]\n",
      " [0.16761358 0.         0.36454626 ... 0.         0.         1.        ]]\n"
     ]
    }
   ],
   "source": [
    "print(cosine_sim)"
   ]
  },
  {
   "cell_type": "code",
   "execution_count": 87,
   "metadata": {},
   "outputs": [
    {
     "data": {
      "text/plain": [
       "title\n",
       "Toy Story                                 0\n",
       "Jumanji                                   1\n",
       "Grumpier Old Men                          2\n",
       "Waiting to Exhale                         3\n",
       "Father of the Bride Part II               4\n",
       "                                       ... \n",
       "Black Butler: Book of the Atlantic     9737\n",
       "No Game No Life: Zero                  9738\n",
       "Flint                                  9739\n",
       "Bungo Stray Dogs: Dead Apple           9740\n",
       "Andrew Dice Clay: Dice Rules           9741\n",
       "Length: 9742, dtype: int64"
      ]
     },
     "execution_count": 87,
     "metadata": {},
     "output_type": "execute_result"
    }
   ],
   "source": [
    "# build a 1-dimesional array with movie title\n",
    "titles= movie_df['title']\n",
    "indices = pd.Series(movie_df.index, index=movie_df['title'])\n",
    "indices"
   ]
  },
  {
   "cell_type": "code",
   "execution_count": 102,
   "metadata": {},
   "outputs": [],
   "source": [
    "# Funtion that get movie recommendation based on the consine simillarity score of movie ganre\n",
    "\n",
    "def genre_recommendation(title):\n",
    "    idx = indices[title]\n",
    "    print(idx);\n",
    "    sim_scores = list(enumerate(cosine_sim[idx]))\n",
    "    sim_scores = sorted(sim_scores,key=lambda x:x[1], reverse=True)\n",
    "    #print(sim_scores)\n",
    "    sim_scores = sim_scores[1:21]\n",
    "    movie_indices = [i[0] for i in sim_scores]\n",
    "    print(movie_indices)\n",
    "    return titles.iloc[movie_indices]"
   ]
  },
  {
   "cell_type": "code",
   "execution_count": 103,
   "metadata": {},
   "outputs": [
    {
     "name": "stdout",
     "output_type": "stream",
     "text": [
      "6710\n",
      "[7768, 8032, 8080, 140, 2417, 5778, 7375, 3576, 3190, 6858, 4242, 5060, 1305, 5483, 6815, 5934, 4749, 7877, 8766, 6690]\n"
     ]
    },
    {
     "data": {
      "text/plain": [
       "7768                     Dark Knight Rises, The \n",
       "8032    Batman: The Dark Knight Returns, Part 1 \n",
       "8080    Batman: The Dark Knight Returns, Part 2 \n",
       "140                                First Knight \n",
       "2417                         Cry in the Dark, A \n",
       "5778                          Alone in the Dark \n",
       "7375                             Knight and Day \n",
       "3576                               Black Knight \n",
       "3190                           Knight's Tale, A \n",
       "6858                       Alone in the Dark II \n",
       "Name: title, dtype: object"
      ]
     },
     "execution_count": 103,
     "metadata": {},
     "output_type": "execute_result"
    }
   ],
   "source": [
    "genre_recommendation('Dark Knight ').head(10)"
   ]
  },
  {
   "cell_type": "markdown",
   "metadata": {},
   "source": [
    "## Recommandation based on title"
   ]
  },
  {
   "cell_type": "code",
   "execution_count": 79,
   "metadata": {},
   "outputs": [
    {
     "data": {
      "text/plain": [
       "(9742, 20413)"
      ]
     },
     "execution_count": 79,
     "metadata": {},
     "output_type": "execute_result"
    }
   ],
   "source": [
    "from sklearn.feature_extraction.text import TfidfVectorizer\n",
    "tf = TfidfVectorizer(analyzer='word',ngram_range=(1,2),min_df=0,stop_words='english')\n",
    "tfidf_matrix = tf.fit_transform(movie_df['title'])\n",
    "tfidf_matrix.shape\n"
   ]
  },
  {
   "cell_type": "code",
   "execution_count": 80,
   "metadata": {},
   "outputs": [
    {
     "data": {
      "text/plain": [
       "array([[1., 0., 0., 0.],\n",
       "       [0., 1., 0., 0.],\n",
       "       [0., 0., 1., 0.],\n",
       "       [0., 0., 0., 1.]])"
      ]
     },
     "execution_count": 80,
     "metadata": {},
     "output_type": "execute_result"
    }
   ],
   "source": [
    "from sklearn.metrics.pairwise import cosine_similarity\n",
    "cosine_sim = cosine_similarity(tfidf_matrix,tfidf_matrix)\n",
    "cosine_sim[:4,:4]"
   ]
  },
  {
   "cell_type": "code",
   "execution_count": 81,
   "metadata": {},
   "outputs": [
    {
     "data": {
      "text/plain": [
       "title\n",
       "Toy Story                                 0\n",
       "Jumanji                                   1\n",
       "Grumpier Old Men                          2\n",
       "Waiting to Exhale                         3\n",
       "Father of the Bride Part II               4\n",
       "                                       ... \n",
       "Black Butler: Book of the Atlantic     9737\n",
       "No Game No Life: Zero                  9738\n",
       "Flint                                  9739\n",
       "Bungo Stray Dogs: Dead Apple           9740\n",
       "Andrew Dice Clay: Dice Rules           9741\n",
       "Length: 9742, dtype: int64"
      ]
     },
     "execution_count": 81,
     "metadata": {},
     "output_type": "execute_result"
    }
   ],
   "source": [
    "# build a 1-dimesional array with movie title\n",
    "titles= movie_df['title']\n",
    "indices = pd.Series(movie_df.index, index=movie_df['title'])\n",
    "indices"
   ]
  },
  {
   "cell_type": "code",
   "execution_count": 82,
   "metadata": {},
   "outputs": [],
   "source": [
    "# Funtion that get movie recommendation based on the consine simillarity score of movie titles\n",
    "\n",
    "def genre_recommendation(title):\n",
    "    idx = indices[title]\n",
    "    sim_scores = list(enumerate(cosine_sim[idx]))\n",
    "    sim_scores = sorted(sim_scores,key=lambda x:x[1], reverse=True)\n",
    "    sim_scores = sim_scores[1:21]\n",
    "    movie_indices = [i[0] for i in sim_scores]\n",
    "    return titles.iloc[movie_indices]"
   ]
  },
  {
   "cell_type": "code",
   "execution_count": 83,
   "metadata": {},
   "outputs": [
    {
     "data": {
      "text/plain": [
       "7768                     Dark Knight Rises, The \n",
       "8032    Batman: The Dark Knight Returns, Part 1 \n",
       "8080    Batman: The Dark Knight Returns, Part 2 \n",
       "140                                First Knight \n",
       "2417                         Cry in the Dark, A \n",
       "5778                          Alone in the Dark \n",
       "7375                             Knight and Day \n",
       "3576                               Black Knight \n",
       "3190                           Knight's Tale, A \n",
       "6858                       Alone in the Dark II \n",
       "Name: title, dtype: object"
      ]
     },
     "execution_count": 83,
     "metadata": {},
     "output_type": "execute_result"
    }
   ],
   "source": [
    "genre_recommendation('Dark Knight ').head(10)"
   ]
  },
  {
   "cell_type": "markdown",
   "metadata": {},
   "source": [
    "# Collaborative Filtering"
   ]
  },
  {
   "cell_type": "markdown",
   "metadata": {},
   "source": []
  },
  {
   "cell_type": "code",
   "execution_count": null,
   "metadata": {},
   "outputs": [],
   "source": [
    "\n",
    "\n"
   ]
  }
 ],
 "metadata": {
  "interpreter": {
   "hash": "2147ee33f673e5bb9c6dddc3b69b7ed017b899ada107a882194aecb2cb9b0728"
  },
  "kernelspec": {
   "display_name": "Python 3.7.10 64-bit ('demo2': conda)",
   "language": "python",
   "name": "python3"
  },
  "language_info": {
   "codemirror_mode": {
    "name": "ipython",
    "version": 3
   },
   "file_extension": ".py",
   "mimetype": "text/x-python",
   "name": "python",
   "nbconvert_exporter": "python",
   "pygments_lexer": "ipython3",
   "version": "3.7.10"
  }
 },
 "nbformat": 4,
 "nbformat_minor": 4
}
