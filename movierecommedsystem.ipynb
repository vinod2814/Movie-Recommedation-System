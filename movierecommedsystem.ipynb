{
 "cells": [
  {
   "cell_type": "markdown",
   "metadata": {},
   "source": [
    "## Importing Libraries and loading data"
   ]
  },
  {
   "cell_type": "code",
   "execution_count": 6,
   "metadata": {},
   "outputs": [],
   "source": [
    "import pandas as pd\n",
    "import numpy as np\n",
    "import matplotlib.pyplot as plt"
   ]
  },
  {
   "cell_type": "markdown",
   "metadata": {},
   "source": [
    "## Example with TF-IDF Implementation with python (Mannually)"
   ]
  },
  {
   "cell_type": "code",
   "execution_count": 7,
   "metadata": {},
   "outputs": [
    {
     "name": "stdout",
     "output_type": "stream",
     "text": [
      "{'a': 1, 'fire': 0, 'around': 0, 'man': 1, 'the': 1, 'sat': 0, 'walk': 1, 'went': 1, 'for': 1, 'out': 1, 'children': 0}\n",
      "{'a': 0, 'fire': 1, 'around': 1, 'man': 0, 'the': 2, 'sat': 1, 'walk': 0, 'went': 0, 'for': 0, 'out': 0, 'children': 1}\n"
     ]
    }
   ],
   "source": [
    "# Two simple documents containing one sentence each.\n",
    "\n",
    "documentA = 'the man went out for a walk'\n",
    "documentB = 'the children sat around the fire'\n",
    "\n",
    "# splite sentence based on space\n",
    "bowA = documentA.split(' ')\n",
    "bowB = documentB.split(' ')\n",
    "\n",
    "# find unique words in both the sentence\n",
    "unique_words = set(bowA).union(set(bowB))\n",
    "\n",
    "# create dictionary of words and their occurence for each document.\n",
    "numOfWordsA = dict.fromkeys(unique_words, 0)\n",
    "for word in bowA:\n",
    "    numOfWordsA[word] += 1; \n",
    "    \n",
    "# create dictionary of words and their occurence for each document.    \n",
    "numOfWordsB = dict.fromkeys(unique_words, 0)    \n",
    "for word in bowB:\n",
    "    numOfWordsB[word] += 1;        \n",
    "\n",
    "print(numOfWordsA)\n",
    "print(numOfWordsB)\n"
   ]
  },
  {
   "cell_type": "markdown",
   "metadata": {},
   "source": [
    "### Term Frequency (TF)"
   ]
  },
  {
   "cell_type": "code",
   "execution_count": 8,
   "metadata": {},
   "outputs": [],
   "source": [
    "# compute TF\n",
    "def computeTF(wordDict, bag_of_words):\n",
    "    print(wordDict, bag_of_words)\n",
    "    tfDict = {}\n",
    "    bag_of_words_count = len(bag_of_words)\n",
    "    print(bag_of_words_count)\n",
    "    for word, count in wordDict.items():\n",
    "        #print(word,count)\n",
    "        tfDict[word] = count / float(bag_of_words_count)\n",
    "    return tfDict        "
   ]
  },
  {
   "cell_type": "code",
   "execution_count": 9,
   "metadata": {},
   "outputs": [
    {
     "name": "stdout",
     "output_type": "stream",
     "text": [
      "{'a': 1, 'fire': 0, 'around': 0, 'man': 1, 'the': 1, 'sat': 0, 'walk': 1, 'went': 1, 'for': 1, 'out': 1, 'children': 0} ['the', 'man', 'went', 'out', 'for', 'a', 'walk']\n",
      "7\n",
      "{'a': 0, 'fire': 1, 'around': 1, 'man': 0, 'the': 2, 'sat': 1, 'walk': 0, 'went': 0, 'for': 0, 'out': 0, 'children': 1} ['the', 'children', 'sat', 'around', 'the', 'fire']\n",
      "6\n",
      "{'a': 0.14285714285714285, 'fire': 0.0, 'around': 0.0, 'man': 0.14285714285714285, 'the': 0.14285714285714285, 'sat': 0.0, 'walk': 0.14285714285714285, 'went': 0.14285714285714285, 'for': 0.14285714285714285, 'out': 0.14285714285714285, 'children': 0.0}\n",
      "{'a': 0.0, 'fire': 0.16666666666666666, 'around': 0.16666666666666666, 'man': 0.0, 'the': 0.3333333333333333, 'sat': 0.16666666666666666, 'walk': 0.0, 'went': 0.0, 'for': 0.0, 'out': 0.0, 'children': 0.16666666666666666}\n"
     ]
    }
   ],
   "source": [
    "tf_A = computeTF(numOfWordsA,bowA)\n",
    "tf_B = computeTF(numOfWordsB,bowB)\n",
    "\n",
    "print(tf_A)\n",
    "print(tf_B)\n"
   ]
  },
  {
   "cell_type": "markdown",
   "metadata": {},
   "source": [
    "### Inverse Data Frequency (IDF)"
   ]
  },
  {
   "cell_type": "code",
   "execution_count": 10,
   "metadata": {},
   "outputs": [],
   "source": [
    "def computeIDF(documents):\n",
    "    import math\n",
    "    N = len(documents)\n",
    "    \n",
    "    idfDict = dict.fromkeys(documents[0].keys(), 0)\n",
    "    print(idfDict)\n",
    "    for document in documents:\n",
    "        for word, val in document.items():\n",
    "            if val > 0:\n",
    "                idfDict[word] += 1\n",
    "    print(idfDict)           \n",
    "    for word, val in idfDict.items():\n",
    "        idfDict[word] = math.log(N / float(val))           \n",
    "    \n",
    "    return idfDict"
   ]
  },
  {
   "cell_type": "code",
   "execution_count": 11,
   "metadata": {},
   "outputs": [
    {
     "name": "stdout",
     "output_type": "stream",
     "text": [
      "{'a': 0, 'fire': 0, 'around': 0, 'man': 0, 'the': 0, 'sat': 0, 'walk': 0, 'went': 0, 'for': 0, 'out': 0, 'children': 0}\n",
      "{'a': 1, 'fire': 1, 'around': 1, 'man': 1, 'the': 2, 'sat': 1, 'walk': 1, 'went': 1, 'for': 1, 'out': 1, 'children': 1}\n"
     ]
    },
    {
     "data": {
      "text/plain": [
       "{'a': 0.6931471805599453,\n",
       " 'fire': 0.6931471805599453,\n",
       " 'around': 0.6931471805599453,\n",
       " 'man': 0.6931471805599453,\n",
       " 'the': 0.0,\n",
       " 'sat': 0.6931471805599453,\n",
       " 'walk': 0.6931471805599453,\n",
       " 'went': 0.6931471805599453,\n",
       " 'for': 0.6931471805599453,\n",
       " 'out': 0.6931471805599453,\n",
       " 'children': 0.6931471805599453}"
      ]
     },
     "execution_count": 11,
     "metadata": {},
     "output_type": "execute_result"
    }
   ],
   "source": [
    "idfs = computeIDF([numOfWordsA,numOfWordsB])\n",
    "idfs"
   ]
  },
  {
   "cell_type": "markdown",
   "metadata": {},
   "source": [
    "### TF-IDF"
   ]
  },
  {
   "cell_type": "code",
   "execution_count": 12,
   "metadata": {},
   "outputs": [],
   "source": [
    "def computeTFIDF(tf_bag_of_words, idfs):\n",
    "    tfidf = {}\n",
    "    for word, val in tf_bag_of_words.items():\n",
    "        tfidf[word] = val * idfs[word]\n",
    "    return tfidf    "
   ]
  },
  {
   "cell_type": "code",
   "execution_count": 13,
   "metadata": {},
   "outputs": [
    {
     "data": {
      "text/html": [
       "<div>\n",
       "<style scoped>\n",
       "    .dataframe tbody tr th:only-of-type {\n",
       "        vertical-align: middle;\n",
       "    }\n",
       "\n",
       "    .dataframe tbody tr th {\n",
       "        vertical-align: top;\n",
       "    }\n",
       "\n",
       "    .dataframe thead th {\n",
       "        text-align: right;\n",
       "    }\n",
       "</style>\n",
       "<table border=\"1\" class=\"dataframe\">\n",
       "  <thead>\n",
       "    <tr style=\"text-align: right;\">\n",
       "      <th></th>\n",
       "      <th>a</th>\n",
       "      <th>fire</th>\n",
       "      <th>around</th>\n",
       "      <th>man</th>\n",
       "      <th>the</th>\n",
       "      <th>sat</th>\n",
       "      <th>walk</th>\n",
       "      <th>went</th>\n",
       "      <th>for</th>\n",
       "      <th>out</th>\n",
       "      <th>children</th>\n",
       "    </tr>\n",
       "  </thead>\n",
       "  <tbody>\n",
       "    <tr>\n",
       "      <th>0</th>\n",
       "      <td>0.099021</td>\n",
       "      <td>0.000000</td>\n",
       "      <td>0.000000</td>\n",
       "      <td>0.099021</td>\n",
       "      <td>0.0</td>\n",
       "      <td>0.000000</td>\n",
       "      <td>0.099021</td>\n",
       "      <td>0.099021</td>\n",
       "      <td>0.099021</td>\n",
       "      <td>0.099021</td>\n",
       "      <td>0.000000</td>\n",
       "    </tr>\n",
       "    <tr>\n",
       "      <th>1</th>\n",
       "      <td>0.000000</td>\n",
       "      <td>0.115525</td>\n",
       "      <td>0.115525</td>\n",
       "      <td>0.000000</td>\n",
       "      <td>0.0</td>\n",
       "      <td>0.115525</td>\n",
       "      <td>0.000000</td>\n",
       "      <td>0.000000</td>\n",
       "      <td>0.000000</td>\n",
       "      <td>0.000000</td>\n",
       "      <td>0.115525</td>\n",
       "    </tr>\n",
       "  </tbody>\n",
       "</table>\n",
       "</div>"
      ],
      "text/plain": [
       "          a      fire    around       man  the       sat      walk      went  \\\n",
       "0  0.099021  0.000000  0.000000  0.099021  0.0  0.000000  0.099021  0.099021   \n",
       "1  0.000000  0.115525  0.115525  0.000000  0.0  0.115525  0.000000  0.000000   \n",
       "\n",
       "        for       out  children  \n",
       "0  0.099021  0.099021  0.000000  \n",
       "1  0.000000  0.000000  0.115525  "
      ]
     },
     "execution_count": 13,
     "metadata": {},
     "output_type": "execute_result"
    }
   ],
   "source": [
    "# Compute the TF-IDF scores for all the words\n",
    "tfidf_A = computeTFIDF(tf_A,idfs)\n",
    "tfidf_B = computeTFIDF(tf_B,idfs)\n",
    "\n",
    "df = pd.DataFrame([tfidf_A,tfidf_B])\n",
    "\n",
    "df\n"
   ]
  },
  {
   "cell_type": "markdown",
   "metadata": {},
   "source": [
    "#### Rather than manually implementing TF-IDF ourselves, we could use the class provided by sklearn. The values differ slightly because sklearn uses a smoothed version idf and various other little optimizations."
   ]
  },
  {
   "cell_type": "code",
   "execution_count": 14,
   "metadata": {},
   "outputs": [],
   "source": [
    "from sklearn.feature_extraction.text import TfidfVectorizer"
   ]
  },
  {
   "cell_type": "code",
   "execution_count": 15,
   "metadata": {},
   "outputs": [
    {
     "name": "stdout",
     "output_type": "stream",
     "text": [
      "['around', 'children', 'fire', 'for', 'man', 'out', 'sat', 'the', 'walk', 'went']\n",
      "[[0.0, 0.0, 0.0, 0.42615959880289433, 0.42615959880289433, 0.42615959880289433, 0.0, 0.3032160644503863, 0.42615959880289433, 0.42615959880289433], [0.40740123733358447, 0.40740123733358447, 0.40740123733358447, 0.0, 0.0, 0.0, 0.40740123733358447, 0.5797386715376657, 0.0, 0.0]]\n"
     ]
    },
    {
     "data": {
      "text/html": [
       "<div>\n",
       "<style scoped>\n",
       "    .dataframe tbody tr th:only-of-type {\n",
       "        vertical-align: middle;\n",
       "    }\n",
       "\n",
       "    .dataframe tbody tr th {\n",
       "        vertical-align: top;\n",
       "    }\n",
       "\n",
       "    .dataframe thead th {\n",
       "        text-align: right;\n",
       "    }\n",
       "</style>\n",
       "<table border=\"1\" class=\"dataframe\">\n",
       "  <thead>\n",
       "    <tr style=\"text-align: right;\">\n",
       "      <th></th>\n",
       "      <th>around</th>\n",
       "      <th>children</th>\n",
       "      <th>fire</th>\n",
       "      <th>for</th>\n",
       "      <th>man</th>\n",
       "      <th>out</th>\n",
       "      <th>sat</th>\n",
       "      <th>the</th>\n",
       "      <th>walk</th>\n",
       "      <th>went</th>\n",
       "    </tr>\n",
       "  </thead>\n",
       "  <tbody>\n",
       "    <tr>\n",
       "      <th>0</th>\n",
       "      <td>0.000000</td>\n",
       "      <td>0.000000</td>\n",
       "      <td>0.000000</td>\n",
       "      <td>0.42616</td>\n",
       "      <td>0.42616</td>\n",
       "      <td>0.42616</td>\n",
       "      <td>0.000000</td>\n",
       "      <td>0.303216</td>\n",
       "      <td>0.42616</td>\n",
       "      <td>0.42616</td>\n",
       "    </tr>\n",
       "    <tr>\n",
       "      <th>1</th>\n",
       "      <td>0.407401</td>\n",
       "      <td>0.407401</td>\n",
       "      <td>0.407401</td>\n",
       "      <td>0.00000</td>\n",
       "      <td>0.00000</td>\n",
       "      <td>0.00000</td>\n",
       "      <td>0.407401</td>\n",
       "      <td>0.579739</td>\n",
       "      <td>0.00000</td>\n",
       "      <td>0.00000</td>\n",
       "    </tr>\n",
       "  </tbody>\n",
       "</table>\n",
       "</div>"
      ],
      "text/plain": [
       "     around  children      fire      for      man      out       sat  \\\n",
       "0  0.000000  0.000000  0.000000  0.42616  0.42616  0.42616  0.000000   \n",
       "1  0.407401  0.407401  0.407401  0.00000  0.00000  0.00000  0.407401   \n",
       "\n",
       "        the     walk     went  \n",
       "0  0.303216  0.42616  0.42616  \n",
       "1  0.579739  0.00000  0.00000  "
      ]
     },
     "execution_count": 15,
     "metadata": {},
     "output_type": "execute_result"
    }
   ],
   "source": [
    "vectorizer = TfidfVectorizer()\n",
    "vectors = vectorizer.fit_transform([documentA, documentB])\n",
    "feature_names = vectorizer.get_feature_names()\n",
    "print(feature_names)\n",
    "dense = vectors.todense()\n",
    "denselist = dense.tolist()\n",
    "print(denselist)\n",
    "df = pd.DataFrame(denselist, columns=feature_names)\n",
    "df"
   ]
  },
  {
   "cell_type": "code",
   "execution_count": 16,
   "metadata": {},
   "outputs": [
    {
     "name": "stdout",
     "output_type": "stream",
     "text": [
      "['children', 'children sat', 'man', 'man went', 'sat', 'walk', 'went', 'went walk']\n",
      "[[0.0, 0.0, 0.447213595499958, 0.447213595499958, 0.0, 0.447213595499958, 0.447213595499958, 0.447213595499958], [0.5773502691896257, 0.5773502691896257, 0.0, 0.0, 0.5773502691896257, 0.0, 0.0, 0.0]]\n"
     ]
    },
    {
     "data": {
      "text/html": [
       "<div>\n",
       "<style scoped>\n",
       "    .dataframe tbody tr th:only-of-type {\n",
       "        vertical-align: middle;\n",
       "    }\n",
       "\n",
       "    .dataframe tbody tr th {\n",
       "        vertical-align: top;\n",
       "    }\n",
       "\n",
       "    .dataframe thead th {\n",
       "        text-align: right;\n",
       "    }\n",
       "</style>\n",
       "<table border=\"1\" class=\"dataframe\">\n",
       "  <thead>\n",
       "    <tr style=\"text-align: right;\">\n",
       "      <th></th>\n",
       "      <th>children</th>\n",
       "      <th>children sat</th>\n",
       "      <th>man</th>\n",
       "      <th>man went</th>\n",
       "      <th>sat</th>\n",
       "      <th>walk</th>\n",
       "      <th>went</th>\n",
       "      <th>went walk</th>\n",
       "    </tr>\n",
       "  </thead>\n",
       "  <tbody>\n",
       "    <tr>\n",
       "      <th>0</th>\n",
       "      <td>0.00000</td>\n",
       "      <td>0.00000</td>\n",
       "      <td>0.447214</td>\n",
       "      <td>0.447214</td>\n",
       "      <td>0.00000</td>\n",
       "      <td>0.447214</td>\n",
       "      <td>0.447214</td>\n",
       "      <td>0.447214</td>\n",
       "    </tr>\n",
       "    <tr>\n",
       "      <th>1</th>\n",
       "      <td>0.57735</td>\n",
       "      <td>0.57735</td>\n",
       "      <td>0.000000</td>\n",
       "      <td>0.000000</td>\n",
       "      <td>0.57735</td>\n",
       "      <td>0.000000</td>\n",
       "      <td>0.000000</td>\n",
       "      <td>0.000000</td>\n",
       "    </tr>\n",
       "  </tbody>\n",
       "</table>\n",
       "</div>"
      ],
      "text/plain": [
       "   children  children sat       man  man went      sat      walk      went  \\\n",
       "0   0.00000       0.00000  0.447214  0.447214  0.00000  0.447214  0.447214   \n",
       "1   0.57735       0.57735  0.000000  0.000000  0.57735  0.000000  0.000000   \n",
       "\n",
       "   went walk  \n",
       "0   0.447214  \n",
       "1   0.000000  "
      ]
     },
     "execution_count": 16,
     "metadata": {},
     "output_type": "execute_result"
    }
   ],
   "source": [
    "# after applying some parameter value in TfidfVectorizer\n",
    "vectorizer = TfidfVectorizer(analyzer='word',ngram_range=(1,2),min_df=0,stop_words='english')\n",
    "vectors = vectorizer.fit_transform([documentA, documentB])\n",
    "feature_names = vectorizer.get_feature_names()\n",
    "print(feature_names)\n",
    "dense = vectors.todense()\n",
    "denselist = dense.tolist()\n",
    "print(denselist)\n",
    "df = pd.DataFrame(denselist, columns=feature_names)\n",
    "df"
   ]
  },
  {
   "cell_type": "markdown",
   "metadata": {},
   "source": [
    "# Content based recommender \n",
    "A content based recommender works with data that the user provides, either explicitly (rating) or implicitly (clicking on a link). Based on that data, a user profile is generated, which is then used to make suggestions to the user. As the user provides more inputs or takes actions on the recommendations, the engine becomes more and more accurate."
   ]
  },
  {
   "cell_type": "code",
   "execution_count": 17,
   "metadata": {},
   "outputs": [],
   "source": [
    "#reading movie file\n",
    "movie_df = pd.read_csv(\"movies.csv\")"
   ]
  },
  {
   "cell_type": "code",
   "execution_count": 18,
   "metadata": {},
   "outputs": [
    {
     "data": {
      "text/html": [
       "<div>\n",
       "<style scoped>\n",
       "    .dataframe tbody tr th:only-of-type {\n",
       "        vertical-align: middle;\n",
       "    }\n",
       "\n",
       "    .dataframe tbody tr th {\n",
       "        vertical-align: top;\n",
       "    }\n",
       "\n",
       "    .dataframe thead th {\n",
       "        text-align: right;\n",
       "    }\n",
       "</style>\n",
       "<table border=\"1\" class=\"dataframe\">\n",
       "  <thead>\n",
       "    <tr style=\"text-align: right;\">\n",
       "      <th></th>\n",
       "      <th>movieId</th>\n",
       "      <th>title</th>\n",
       "      <th>genres</th>\n",
       "    </tr>\n",
       "  </thead>\n",
       "  <tbody>\n",
       "    <tr>\n",
       "      <th>0</th>\n",
       "      <td>1</td>\n",
       "      <td>Toy Story</td>\n",
       "      <td>Adventure|Animation|Children|Comedy|Fantasy</td>\n",
       "    </tr>\n",
       "    <tr>\n",
       "      <th>1</th>\n",
       "      <td>2</td>\n",
       "      <td>Jumanji</td>\n",
       "      <td>Adventure|Children|Fantasy</td>\n",
       "    </tr>\n",
       "    <tr>\n",
       "      <th>2</th>\n",
       "      <td>3</td>\n",
       "      <td>Grumpier Old Men</td>\n",
       "      <td>Comedy|Romance</td>\n",
       "    </tr>\n",
       "    <tr>\n",
       "      <th>3</th>\n",
       "      <td>4</td>\n",
       "      <td>Waiting to Exhale</td>\n",
       "      <td>Comedy|Drama|Romance</td>\n",
       "    </tr>\n",
       "    <tr>\n",
       "      <th>4</th>\n",
       "      <td>5</td>\n",
       "      <td>Father of the Bride Part II</td>\n",
       "      <td>Comedy</td>\n",
       "    </tr>\n",
       "  </tbody>\n",
       "</table>\n",
       "</div>"
      ],
      "text/plain": [
       "   movieId                         title  \\\n",
       "0        1                    Toy Story    \n",
       "1        2                      Jumanji    \n",
       "2        3             Grumpier Old Men    \n",
       "3        4            Waiting to Exhale    \n",
       "4        5  Father of the Bride Part II    \n",
       "\n",
       "                                        genres  \n",
       "0  Adventure|Animation|Children|Comedy|Fantasy  \n",
       "1                   Adventure|Children|Fantasy  \n",
       "2                               Comedy|Romance  \n",
       "3                         Comedy|Drama|Romance  \n",
       "4                                       Comedy  "
      ]
     },
     "execution_count": 18,
     "metadata": {},
     "output_type": "execute_result"
    }
   ],
   "source": [
    "movie_df.head()"
   ]
  },
  {
   "cell_type": "code",
   "execution_count": 19,
   "metadata": {},
   "outputs": [],
   "source": [
    "# Break up the big genre string into a string array\n",
    "movie_df['genres'] = movie_df['genres'].str.split('|')\n",
    "\n",
    "# convert genre to string value\n",
    "movie_df['genres'] = movie_df['genres'].fillna(\"\").astype('str')"
   ]
  },
  {
   "cell_type": "code",
   "execution_count": 20,
   "metadata": {},
   "outputs": [
    {
     "data": {
      "text/html": [
       "<div>\n",
       "<style scoped>\n",
       "    .dataframe tbody tr th:only-of-type {\n",
       "        vertical-align: middle;\n",
       "    }\n",
       "\n",
       "    .dataframe tbody tr th {\n",
       "        vertical-align: top;\n",
       "    }\n",
       "\n",
       "    .dataframe thead th {\n",
       "        text-align: right;\n",
       "    }\n",
       "</style>\n",
       "<table border=\"1\" class=\"dataframe\">\n",
       "  <thead>\n",
       "    <tr style=\"text-align: right;\">\n",
       "      <th></th>\n",
       "      <th>movieId</th>\n",
       "      <th>title</th>\n",
       "      <th>genres</th>\n",
       "    </tr>\n",
       "  </thead>\n",
       "  <tbody>\n",
       "    <tr>\n",
       "      <th>0</th>\n",
       "      <td>1</td>\n",
       "      <td>Toy Story</td>\n",
       "      <td>['Adventure', 'Animation', 'Children', 'Comedy...</td>\n",
       "    </tr>\n",
       "    <tr>\n",
       "      <th>1</th>\n",
       "      <td>2</td>\n",
       "      <td>Jumanji</td>\n",
       "      <td>['Adventure', 'Children', 'Fantasy']</td>\n",
       "    </tr>\n",
       "    <tr>\n",
       "      <th>2</th>\n",
       "      <td>3</td>\n",
       "      <td>Grumpier Old Men</td>\n",
       "      <td>['Comedy', 'Romance']</td>\n",
       "    </tr>\n",
       "    <tr>\n",
       "      <th>3</th>\n",
       "      <td>4</td>\n",
       "      <td>Waiting to Exhale</td>\n",
       "      <td>['Comedy', 'Drama', 'Romance']</td>\n",
       "    </tr>\n",
       "    <tr>\n",
       "      <th>4</th>\n",
       "      <td>5</td>\n",
       "      <td>Father of the Bride Part II</td>\n",
       "      <td>['Comedy']</td>\n",
       "    </tr>\n",
       "  </tbody>\n",
       "</table>\n",
       "</div>"
      ],
      "text/plain": [
       "   movieId                         title  \\\n",
       "0        1                    Toy Story    \n",
       "1        2                      Jumanji    \n",
       "2        3             Grumpier Old Men    \n",
       "3        4            Waiting to Exhale    \n",
       "4        5  Father of the Bride Part II    \n",
       "\n",
       "                                              genres  \n",
       "0  ['Adventure', 'Animation', 'Children', 'Comedy...  \n",
       "1               ['Adventure', 'Children', 'Fantasy']  \n",
       "2                              ['Comedy', 'Romance']  \n",
       "3                     ['Comedy', 'Drama', 'Romance']  \n",
       "4                                         ['Comedy']  "
      ]
     },
     "execution_count": 20,
     "metadata": {},
     "output_type": "execute_result"
    }
   ],
   "source": [
    "movie_df.head()"
   ]
  },
  {
   "cell_type": "markdown",
   "metadata": {},
   "source": [
    "## Recommandation based on genre"
   ]
  },
  {
   "cell_type": "code",
   "execution_count": 21,
   "metadata": {},
   "outputs": [
    {
     "data": {
      "text/html": [
       "<div>\n",
       "<style scoped>\n",
       "    .dataframe tbody tr th:only-of-type {\n",
       "        vertical-align: middle;\n",
       "    }\n",
       "\n",
       "    .dataframe tbody tr th {\n",
       "        vertical-align: top;\n",
       "    }\n",
       "\n",
       "    .dataframe thead th {\n",
       "        text-align: right;\n",
       "    }\n",
       "</style>\n",
       "<table border=\"1\" class=\"dataframe\">\n",
       "  <thead>\n",
       "    <tr style=\"text-align: right;\">\n",
       "      <th></th>\n",
       "      <th>action</th>\n",
       "      <th>action adventure</th>\n",
       "      <th>action animation</th>\n",
       "      <th>action children</th>\n",
       "      <th>action comedy</th>\n",
       "      <th>action crime</th>\n",
       "      <th>action documentary</th>\n",
       "      <th>action drama</th>\n",
       "      <th>action fantasy</th>\n",
       "      <th>action horror</th>\n",
       "      <th>...</th>\n",
       "      <th>sci fi</th>\n",
       "      <th>thriller</th>\n",
       "      <th>thriller imax</th>\n",
       "      <th>thriller war</th>\n",
       "      <th>thriller western</th>\n",
       "      <th>war</th>\n",
       "      <th>war imax</th>\n",
       "      <th>war western</th>\n",
       "      <th>western</th>\n",
       "      <th>western imax</th>\n",
       "    </tr>\n",
       "  </thead>\n",
       "  <tbody>\n",
       "    <tr>\n",
       "      <th>0</th>\n",
       "      <td>0.000000</td>\n",
       "      <td>0.0</td>\n",
       "      <td>0.000000</td>\n",
       "      <td>0.0</td>\n",
       "      <td>0.0</td>\n",
       "      <td>0.0</td>\n",
       "      <td>0.0</td>\n",
       "      <td>0.0</td>\n",
       "      <td>0.0</td>\n",
       "      <td>0.0</td>\n",
       "      <td>...</td>\n",
       "      <td>0.0</td>\n",
       "      <td>0.0</td>\n",
       "      <td>0.0</td>\n",
       "      <td>0.0</td>\n",
       "      <td>0.0</td>\n",
       "      <td>0.0</td>\n",
       "      <td>0.0</td>\n",
       "      <td>0.0</td>\n",
       "      <td>0.0</td>\n",
       "      <td>0.0</td>\n",
       "    </tr>\n",
       "    <tr>\n",
       "      <th>1</th>\n",
       "      <td>0.000000</td>\n",
       "      <td>0.0</td>\n",
       "      <td>0.000000</td>\n",
       "      <td>0.0</td>\n",
       "      <td>0.0</td>\n",
       "      <td>0.0</td>\n",
       "      <td>0.0</td>\n",
       "      <td>0.0</td>\n",
       "      <td>0.0</td>\n",
       "      <td>0.0</td>\n",
       "      <td>...</td>\n",
       "      <td>0.0</td>\n",
       "      <td>0.0</td>\n",
       "      <td>0.0</td>\n",
       "      <td>0.0</td>\n",
       "      <td>0.0</td>\n",
       "      <td>0.0</td>\n",
       "      <td>0.0</td>\n",
       "      <td>0.0</td>\n",
       "      <td>0.0</td>\n",
       "      <td>0.0</td>\n",
       "    </tr>\n",
       "    <tr>\n",
       "      <th>2</th>\n",
       "      <td>0.000000</td>\n",
       "      <td>0.0</td>\n",
       "      <td>0.000000</td>\n",
       "      <td>0.0</td>\n",
       "      <td>0.0</td>\n",
       "      <td>0.0</td>\n",
       "      <td>0.0</td>\n",
       "      <td>0.0</td>\n",
       "      <td>0.0</td>\n",
       "      <td>0.0</td>\n",
       "      <td>...</td>\n",
       "      <td>0.0</td>\n",
       "      <td>0.0</td>\n",
       "      <td>0.0</td>\n",
       "      <td>0.0</td>\n",
       "      <td>0.0</td>\n",
       "      <td>0.0</td>\n",
       "      <td>0.0</td>\n",
       "      <td>0.0</td>\n",
       "      <td>0.0</td>\n",
       "      <td>0.0</td>\n",
       "    </tr>\n",
       "    <tr>\n",
       "      <th>3</th>\n",
       "      <td>0.000000</td>\n",
       "      <td>0.0</td>\n",
       "      <td>0.000000</td>\n",
       "      <td>0.0</td>\n",
       "      <td>0.0</td>\n",
       "      <td>0.0</td>\n",
       "      <td>0.0</td>\n",
       "      <td>0.0</td>\n",
       "      <td>0.0</td>\n",
       "      <td>0.0</td>\n",
       "      <td>...</td>\n",
       "      <td>0.0</td>\n",
       "      <td>0.0</td>\n",
       "      <td>0.0</td>\n",
       "      <td>0.0</td>\n",
       "      <td>0.0</td>\n",
       "      <td>0.0</td>\n",
       "      <td>0.0</td>\n",
       "      <td>0.0</td>\n",
       "      <td>0.0</td>\n",
       "      <td>0.0</td>\n",
       "    </tr>\n",
       "    <tr>\n",
       "      <th>4</th>\n",
       "      <td>0.000000</td>\n",
       "      <td>0.0</td>\n",
       "      <td>0.000000</td>\n",
       "      <td>0.0</td>\n",
       "      <td>0.0</td>\n",
       "      <td>0.0</td>\n",
       "      <td>0.0</td>\n",
       "      <td>0.0</td>\n",
       "      <td>0.0</td>\n",
       "      <td>0.0</td>\n",
       "      <td>...</td>\n",
       "      <td>0.0</td>\n",
       "      <td>0.0</td>\n",
       "      <td>0.0</td>\n",
       "      <td>0.0</td>\n",
       "      <td>0.0</td>\n",
       "      <td>0.0</td>\n",
       "      <td>0.0</td>\n",
       "      <td>0.0</td>\n",
       "      <td>0.0</td>\n",
       "      <td>0.0</td>\n",
       "    </tr>\n",
       "    <tr>\n",
       "      <th>...</th>\n",
       "      <td>...</td>\n",
       "      <td>...</td>\n",
       "      <td>...</td>\n",
       "      <td>...</td>\n",
       "      <td>...</td>\n",
       "      <td>...</td>\n",
       "      <td>...</td>\n",
       "      <td>...</td>\n",
       "      <td>...</td>\n",
       "      <td>...</td>\n",
       "      <td>...</td>\n",
       "      <td>...</td>\n",
       "      <td>...</td>\n",
       "      <td>...</td>\n",
       "      <td>...</td>\n",
       "      <td>...</td>\n",
       "      <td>...</td>\n",
       "      <td>...</td>\n",
       "      <td>...</td>\n",
       "      <td>...</td>\n",
       "      <td>...</td>\n",
       "    </tr>\n",
       "    <tr>\n",
       "      <th>9737</th>\n",
       "      <td>0.238499</td>\n",
       "      <td>0.0</td>\n",
       "      <td>0.533576</td>\n",
       "      <td>0.0</td>\n",
       "      <td>0.0</td>\n",
       "      <td>0.0</td>\n",
       "      <td>0.0</td>\n",
       "      <td>0.0</td>\n",
       "      <td>0.0</td>\n",
       "      <td>0.0</td>\n",
       "      <td>...</td>\n",
       "      <td>0.0</td>\n",
       "      <td>0.0</td>\n",
       "      <td>0.0</td>\n",
       "      <td>0.0</td>\n",
       "      <td>0.0</td>\n",
       "      <td>0.0</td>\n",
       "      <td>0.0</td>\n",
       "      <td>0.0</td>\n",
       "      <td>0.0</td>\n",
       "      <td>0.0</td>\n",
       "    </tr>\n",
       "    <tr>\n",
       "      <th>9738</th>\n",
       "      <td>0.000000</td>\n",
       "      <td>0.0</td>\n",
       "      <td>0.000000</td>\n",
       "      <td>0.0</td>\n",
       "      <td>0.0</td>\n",
       "      <td>0.0</td>\n",
       "      <td>0.0</td>\n",
       "      <td>0.0</td>\n",
       "      <td>0.0</td>\n",
       "      <td>0.0</td>\n",
       "      <td>...</td>\n",
       "      <td>0.0</td>\n",
       "      <td>0.0</td>\n",
       "      <td>0.0</td>\n",
       "      <td>0.0</td>\n",
       "      <td>0.0</td>\n",
       "      <td>0.0</td>\n",
       "      <td>0.0</td>\n",
       "      <td>0.0</td>\n",
       "      <td>0.0</td>\n",
       "      <td>0.0</td>\n",
       "    </tr>\n",
       "    <tr>\n",
       "      <th>9739</th>\n",
       "      <td>0.000000</td>\n",
       "      <td>0.0</td>\n",
       "      <td>0.000000</td>\n",
       "      <td>0.0</td>\n",
       "      <td>0.0</td>\n",
       "      <td>0.0</td>\n",
       "      <td>0.0</td>\n",
       "      <td>0.0</td>\n",
       "      <td>0.0</td>\n",
       "      <td>0.0</td>\n",
       "      <td>...</td>\n",
       "      <td>0.0</td>\n",
       "      <td>0.0</td>\n",
       "      <td>0.0</td>\n",
       "      <td>0.0</td>\n",
       "      <td>0.0</td>\n",
       "      <td>0.0</td>\n",
       "      <td>0.0</td>\n",
       "      <td>0.0</td>\n",
       "      <td>0.0</td>\n",
       "      <td>0.0</td>\n",
       "    </tr>\n",
       "    <tr>\n",
       "      <th>9740</th>\n",
       "      <td>0.353726</td>\n",
       "      <td>0.0</td>\n",
       "      <td>0.791366</td>\n",
       "      <td>0.0</td>\n",
       "      <td>0.0</td>\n",
       "      <td>0.0</td>\n",
       "      <td>0.0</td>\n",
       "      <td>0.0</td>\n",
       "      <td>0.0</td>\n",
       "      <td>0.0</td>\n",
       "      <td>...</td>\n",
       "      <td>0.0</td>\n",
       "      <td>0.0</td>\n",
       "      <td>0.0</td>\n",
       "      <td>0.0</td>\n",
       "      <td>0.0</td>\n",
       "      <td>0.0</td>\n",
       "      <td>0.0</td>\n",
       "      <td>0.0</td>\n",
       "      <td>0.0</td>\n",
       "      <td>0.0</td>\n",
       "    </tr>\n",
       "    <tr>\n",
       "      <th>9741</th>\n",
       "      <td>0.000000</td>\n",
       "      <td>0.0</td>\n",
       "      <td>0.000000</td>\n",
       "      <td>0.0</td>\n",
       "      <td>0.0</td>\n",
       "      <td>0.0</td>\n",
       "      <td>0.0</td>\n",
       "      <td>0.0</td>\n",
       "      <td>0.0</td>\n",
       "      <td>0.0</td>\n",
       "      <td>...</td>\n",
       "      <td>0.0</td>\n",
       "      <td>0.0</td>\n",
       "      <td>0.0</td>\n",
       "      <td>0.0</td>\n",
       "      <td>0.0</td>\n",
       "      <td>0.0</td>\n",
       "      <td>0.0</td>\n",
       "      <td>0.0</td>\n",
       "      <td>0.0</td>\n",
       "      <td>0.0</td>\n",
       "    </tr>\n",
       "  </tbody>\n",
       "</table>\n",
       "<p>9742 rows × 177 columns</p>\n",
       "</div>"
      ],
      "text/plain": [
       "        action  action adventure  action animation  action children  \\\n",
       "0     0.000000               0.0          0.000000              0.0   \n",
       "1     0.000000               0.0          0.000000              0.0   \n",
       "2     0.000000               0.0          0.000000              0.0   \n",
       "3     0.000000               0.0          0.000000              0.0   \n",
       "4     0.000000               0.0          0.000000              0.0   \n",
       "...        ...               ...               ...              ...   \n",
       "9737  0.238499               0.0          0.533576              0.0   \n",
       "9738  0.000000               0.0          0.000000              0.0   \n",
       "9739  0.000000               0.0          0.000000              0.0   \n",
       "9740  0.353726               0.0          0.791366              0.0   \n",
       "9741  0.000000               0.0          0.000000              0.0   \n",
       "\n",
       "      action comedy  action crime  action documentary  action drama  \\\n",
       "0               0.0           0.0                 0.0           0.0   \n",
       "1               0.0           0.0                 0.0           0.0   \n",
       "2               0.0           0.0                 0.0           0.0   \n",
       "3               0.0           0.0                 0.0           0.0   \n",
       "4               0.0           0.0                 0.0           0.0   \n",
       "...             ...           ...                 ...           ...   \n",
       "9737            0.0           0.0                 0.0           0.0   \n",
       "9738            0.0           0.0                 0.0           0.0   \n",
       "9739            0.0           0.0                 0.0           0.0   \n",
       "9740            0.0           0.0                 0.0           0.0   \n",
       "9741            0.0           0.0                 0.0           0.0   \n",
       "\n",
       "      action fantasy  action horror  ...  sci fi  thriller  thriller imax  \\\n",
       "0                0.0            0.0  ...     0.0       0.0            0.0   \n",
       "1                0.0            0.0  ...     0.0       0.0            0.0   \n",
       "2                0.0            0.0  ...     0.0       0.0            0.0   \n",
       "3                0.0            0.0  ...     0.0       0.0            0.0   \n",
       "4                0.0            0.0  ...     0.0       0.0            0.0   \n",
       "...              ...            ...  ...     ...       ...            ...   \n",
       "9737             0.0            0.0  ...     0.0       0.0            0.0   \n",
       "9738             0.0            0.0  ...     0.0       0.0            0.0   \n",
       "9739             0.0            0.0  ...     0.0       0.0            0.0   \n",
       "9740             0.0            0.0  ...     0.0       0.0            0.0   \n",
       "9741             0.0            0.0  ...     0.0       0.0            0.0   \n",
       "\n",
       "      thriller war  thriller western  war  war imax  war western  western  \\\n",
       "0              0.0               0.0  0.0       0.0          0.0      0.0   \n",
       "1              0.0               0.0  0.0       0.0          0.0      0.0   \n",
       "2              0.0               0.0  0.0       0.0          0.0      0.0   \n",
       "3              0.0               0.0  0.0       0.0          0.0      0.0   \n",
       "4              0.0               0.0  0.0       0.0          0.0      0.0   \n",
       "...            ...               ...  ...       ...          ...      ...   \n",
       "9737           0.0               0.0  0.0       0.0          0.0      0.0   \n",
       "9738           0.0               0.0  0.0       0.0          0.0      0.0   \n",
       "9739           0.0               0.0  0.0       0.0          0.0      0.0   \n",
       "9740           0.0               0.0  0.0       0.0          0.0      0.0   \n",
       "9741           0.0               0.0  0.0       0.0          0.0      0.0   \n",
       "\n",
       "      western imax  \n",
       "0              0.0  \n",
       "1              0.0  \n",
       "2              0.0  \n",
       "3              0.0  \n",
       "4              0.0  \n",
       "...            ...  \n",
       "9737           0.0  \n",
       "9738           0.0  \n",
       "9739           0.0  \n",
       "9740           0.0  \n",
       "9741           0.0  \n",
       "\n",
       "[9742 rows x 177 columns]"
      ]
     },
     "execution_count": 21,
     "metadata": {},
     "output_type": "execute_result"
    }
   ],
   "source": [
    "from sklearn.feature_extraction.text import TfidfVectorizer\n",
    "tf = TfidfVectorizer(analyzer='word',ngram_range=(1,2),min_df=0,stop_words='english')\n",
    "tfidf_matrix = tf.fit_transform(movie_df['genres'])\n",
    "feature_names = tf.get_feature_names()\n",
    "dense = tfidf_matrix.todense()\n",
    "denselist = dense.tolist()\n",
    "df = pd.DataFrame(denselist, columns=feature_names)\n",
    "#tfidf_matrix.shape\n",
    "df\n"
   ]
  },
  {
   "cell_type": "code",
   "execution_count": 22,
   "metadata": {},
   "outputs": [
    {
     "name": "stdout",
     "output_type": "stream",
     "text": [
      "  (0, 63)\t0.4051430286389587\n",
      "  (0, 47)\t0.3681884973089335\n",
      "  (0, 34)\t0.38369482677526473\n",
      "  (0, 18)\t0.4008862821540716\n",
      "  (0, 108)\t0.30254034715329503\n",
      "  (0, 59)\t0.16761357728391116\n",
      "  (0, 46)\t0.3162303113127544\n",
      "  (0, 33)\t0.32335863498874723\n",
      "  (0, 17)\t0.26110809240797916\n",
      "  (1, 51)\t0.5795995638728872\n",
      "  (1, 19)\t0.5337814180965866\n",
      "  (1, 108)\t0.36554429536140276\n",
      "  (1, 46)\t0.382085190978399\n",
      "  (1, 17)\t0.31548378439611124\n",
      "  (2, 68)\t0.7695974416123483\n",
      "  (2, 160)\t0.5242383036039113\n",
      "  (2, 59)\t0.36454626441402677\n",
      "  (3, 103)\t0.5645649298589199\n",
      "  (3, 62)\t0.5417511322516687\n",
      "  (3, 96)\t0.2904365851652309\n",
      "  (3, 160)\t0.4522400920963429\n",
      "  (3, 59)\t0.31447995130958456\n",
      "  (4, 59)\t1.0\n",
      "  (5, 84)\t0.604518892749723\n",
      "  (5, 5)\t0.5454388121871825\n",
      "  :\t:\n",
      "  (9733, 38)\t0.835677806885533\n",
      "  (9733, 96)\t0.23714974930952545\n",
      "  (9733, 33)\t0.495381266784903\n",
      "  (9734, 62)\t0.7846149876753742\n",
      "  (9734, 96)\t0.42063760299449465\n",
      "  (9734, 59)\t0.4554594691761476\n",
      "  (9735, 33)\t1.0\n",
      "  (9736, 86)\t1.0\n",
      "  (9737, 2)\t0.5335755137706529\n",
      "  (9737, 35)\t0.48852761033721437\n",
      "  (9737, 0)\t0.23849873017217763\n",
      "  (9737, 63)\t0.4212194165327047\n",
      "  (9737, 108)\t0.31454538150050887\n",
      "  (9737, 59)\t0.17426461332352133\n",
      "  (9737, 33)\t0.33618975505598625\n",
      "  (9738, 35)\t0.6020590403453507\n",
      "  (9738, 63)\t0.5191087511255665\n",
      "  (9738, 108)\t0.3876441914931675\n",
      "  (9738, 59)\t0.21476285811418472\n",
      "  (9738, 33)\t0.4143186117223373\n",
      "  (9739, 96)\t1.0\n",
      "  (9740, 2)\t0.7913659180854576\n",
      "  (9740, 0)\t0.3537264392646911\n",
      "  (9740, 33)\t0.4986156734980192\n",
      "  (9741, 59)\t1.0\n"
     ]
    }
   ],
   "source": [
    "print(tfidf_matrix)"
   ]
  },
  {
   "cell_type": "code",
   "execution_count": 23,
   "metadata": {},
   "outputs": [
    {
     "data": {
      "text/plain": [
       "array([[1.        , 0.31379419, 0.0611029 , 0.05271111],\n",
       "       [0.31379419, 1.        , 0.        , 0.        ],\n",
       "       [0.0611029 , 0.        , 1.        , 0.35172407],\n",
       "       [0.05271111, 0.        , 0.35172407, 1.        ]])"
      ]
     },
     "execution_count": 23,
     "metadata": {},
     "output_type": "execute_result"
    }
   ],
   "source": [
    "from sklearn.metrics.pairwise import cosine_similarity\n",
    "cosine_sim = cosine_similarity(tfidf_matrix,tfidf_matrix)\n",
    "cosine_sim[:4,:4]"
   ]
  },
  {
   "cell_type": "code",
   "execution_count": 24,
   "metadata": {},
   "outputs": [
    {
     "name": "stdout",
     "output_type": "stream",
     "text": [
      "[[1.         0.31379419 0.0611029  ... 0.         0.16123168 0.16761358]\n",
      " [0.31379419 1.         0.         ... 0.         0.         0.        ]\n",
      " [0.0611029  0.         1.         ... 0.         0.         0.36454626]\n",
      " ...\n",
      " [0.         0.         0.         ... 1.         0.         0.        ]\n",
      " [0.16123168 0.         0.         ... 0.         1.         0.        ]\n",
      " [0.16761358 0.         0.36454626 ... 0.         0.         1.        ]]\n"
     ]
    }
   ],
   "source": [
    "print(cosine_sim)"
   ]
  },
  {
   "cell_type": "code",
   "execution_count": 25,
   "metadata": {},
   "outputs": [
    {
     "data": {
      "text/plain": [
       "title\n",
       "Toy Story                                 0\n",
       "Jumanji                                   1\n",
       "Grumpier Old Men                          2\n",
       "Waiting to Exhale                         3\n",
       "Father of the Bride Part II               4\n",
       "                                       ... \n",
       "Black Butler: Book of the Atlantic     9737\n",
       "No Game No Life: Zero                  9738\n",
       "Flint                                  9739\n",
       "Bungo Stray Dogs: Dead Apple           9740\n",
       "Andrew Dice Clay: Dice Rules           9741\n",
       "Length: 9742, dtype: int64"
      ]
     },
     "execution_count": 25,
     "metadata": {},
     "output_type": "execute_result"
    }
   ],
   "source": [
    "# build a 1-dimesional array with movie title\n",
    "titles= movie_df['title']\n",
    "indices = pd.Series(movie_df.index, index=movie_df['title'])\n",
    "indices"
   ]
  },
  {
   "cell_type": "code",
   "execution_count": 47,
   "metadata": {},
   "outputs": [],
   "source": [
    "# Funtion that get movie recommendation based on the consine simillarity score of movie ganre\n",
    "\n",
    "def genre_recommendation(title):\n",
    "    idx = indices[title]\n",
    "    print(idx);\n",
    "    sim_scores = list(enumerate(cosine_sim[idx]))\n",
    "    #print(sim_scores)\n",
    "    sim_scores = sorted(sim_scores,key=lambda x:x[1], reverse=True)\n",
    "    #print(sim_scores[10])\n",
    "    sim_scores = sim_scores[1:21]\n",
    "    movie_indices = [i[0] for i in sim_scores]\n",
    "    print(movie_indices)\n",
    "    return titles.iloc[movie_indices]"
   ]
  },
  {
   "cell_type": "code",
   "execution_count": 48,
   "metadata": {},
   "outputs": [
    {
     "name": "stdout",
     "output_type": "stream",
     "text": [
      "0\n",
      "[1706, 2355, 2809, 3000, 3568, 6194, 6486, 6948, 7760, 8219, 8927, 9430, 5490, 6448, 8357, 3194, 7530, 7805, 7184, 7917]\n"
     ]
    },
    {
     "data": {
      "text/plain": [
       "1706                                                Antz \n",
       "2355                                         Toy Story 2 \n",
       "2809             Adventures of Rocky and Bullwinkle, The \n",
       "3000                           Emperor's New Groove, The \n",
       "3568                                      Monsters, Inc. \n",
       "6194                                           Wild, The \n",
       "6486                                     Shrek the Third \n",
       "6948                             Tale of Despereaux, The \n",
       "7760    Asterix and the Vikings (Astérix et les Vikings) \n",
       "8219                                               Turbo \n",
       "Name: title, dtype: object"
      ]
     },
     "execution_count": 48,
     "metadata": {},
     "output_type": "execute_result"
    }
   ],
   "source": [
    "genre_recommendation('Toy Story ').head(10)"
   ]
  },
  {
   "cell_type": "markdown",
   "metadata": {},
   "source": [
    "## Recommandation based on title"
   ]
  },
  {
   "cell_type": "code",
   "execution_count": 50,
   "metadata": {},
   "outputs": [
    {
     "data": {
      "text/plain": [
       "(9742, 20413)"
      ]
     },
     "execution_count": 50,
     "metadata": {},
     "output_type": "execute_result"
    }
   ],
   "source": [
    "from sklearn.feature_extraction.text import TfidfVectorizer\n",
    "tf = TfidfVectorizer(analyzer='word',ngram_range=(1,2),min_df=0,stop_words='english')\n",
    "tfidf_matrix_title = tf.fit_transform(movie_df['title'])\n",
    "tfidf_matrix_title.shape\n"
   ]
  },
  {
   "cell_type": "code",
   "execution_count": 52,
   "metadata": {},
   "outputs": [
    {
     "data": {
      "text/plain": [
       "array([[1., 0., 0., 0.],\n",
       "       [0., 1., 0., 0.],\n",
       "       [0., 0., 1., 0.],\n",
       "       [0., 0., 0., 1.]])"
      ]
     },
     "execution_count": 52,
     "metadata": {},
     "output_type": "execute_result"
    }
   ],
   "source": [
    "from sklearn.metrics.pairwise import cosine_similarity\n",
    "cosine_sim_title = cosine_similarity(tfidf_matrix_title,tfidf_matrix_title)\n",
    "cosine_sim_title[:4,:4]"
   ]
  },
  {
   "cell_type": "code",
   "execution_count": 53,
   "metadata": {},
   "outputs": [
    {
     "data": {
      "text/plain": [
       "title\n",
       "Toy Story                                 0\n",
       "Jumanji                                   1\n",
       "Grumpier Old Men                          2\n",
       "Waiting to Exhale                         3\n",
       "Father of the Bride Part II               4\n",
       "                                       ... \n",
       "Black Butler: Book of the Atlantic     9737\n",
       "No Game No Life: Zero                  9738\n",
       "Flint                                  9739\n",
       "Bungo Stray Dogs: Dead Apple           9740\n",
       "Andrew Dice Clay: Dice Rules           9741\n",
       "Length: 9742, dtype: int64"
      ]
     },
     "execution_count": 53,
     "metadata": {},
     "output_type": "execute_result"
    }
   ],
   "source": [
    "# build a 1-dimesional array with movie title\n",
    "titles= movie_df['title']\n",
    "indices = pd.Series(movie_df.index, index=movie_df['title'])\n",
    "indices"
   ]
  },
  {
   "cell_type": "code",
   "execution_count": 56,
   "metadata": {},
   "outputs": [],
   "source": [
    "# Funtion that get movie recommendation based on the consine simillarity score of movie titles\n",
    "\n",
    "def title_recommendation(title):\n",
    "    idx = indices[title]\n",
    "    sim_scores_title = list(enumerate(cosine_sim_title[idx]))\n",
    "    sim_scores_title = sorted(sim_scores_title,key=lambda x:x[1], reverse=True)\n",
    "    sim_scores_title = sim_scores_title[1:21]\n",
    "    movie_indices_title = [i[0] for i in sim_scores_title]\n",
    "    return titles.iloc[movie_indices_title]"
   ]
  },
  {
   "cell_type": "code",
   "execution_count": 61,
   "metadata": {},
   "outputs": [
    {
     "data": {
      "text/plain": [
       "2355           Toy Story 2 \n",
       "7355           Toy Story 3 \n",
       "3595              Toy, The \n",
       "1570            L.A. Story \n",
       "2227      Story of Us, The \n",
       "4089          Toy Soldiers \n",
       "3187            Love Story \n",
       "2110    Christmas Story, A \n",
       "4047           Ghost Story \n",
       "8736            True Story \n",
       "Name: title, dtype: object"
      ]
     },
     "execution_count": 61,
     "metadata": {},
     "output_type": "execute_result"
    }
   ],
   "source": [
    "title_recommendation('Toy Story ').head(10)"
   ]
  },
  {
   "cell_type": "markdown",
   "metadata": {},
   "source": [
    "# Collaborative Filtering"
   ]
  },
  {
   "cell_type": "code",
   "execution_count": 62,
   "metadata": {},
   "outputs": [],
   "source": [
    "# library\n",
    "import math\n",
    "import operator\n",
    "\n",
    "#Building Custom Data for Movie Rating\n",
    "review = {\n",
    "'Marlon Brando': {\n",
    "'The Godfather': 5.00, \n",
    "'The Godfather Part II': 4.29,\n",
    "'Apocalypse Now': 5.00, \n",
    "'Jaws': 1.\n",
    "},\n",
    "'Stephen King': {\n",
    "'The Shawshank Redemption': 4.89, \n",
    "'The Shining': 4.93 , \n",
    "'The Green Mile': 4.87,\n",
    "'The Godfather': 1.33,\n",
    "},\n",
    "'Steven Spielberg': {\n",
    "'Raiders of the Lost Ark': 5.0, \n",
    "'Jaws': 4.89,\n",
    "'Saving Private Ryan': 4.78, \n",
    "'Star Wars Episode IV - A New Hope': 4.33,\n",
    "'Close Encounters of the Third Kind': 4.77,\n",
    "'The Godfather':  1.25,\n",
    "'The Godfather Part II': 1.72\n",
    "},\n",
    "'George Lucas':{\n",
    "'Star Wars Episode IV - A New Hope': 5.00\t\n",
    "},\n",
    "'Al Pacino': {\n",
    "'The Godfather': 4.02, \n",
    "'The Godfather Part II': 5.00,\n",
    "},\n",
    "'Robert DeNiro': {\n",
    "'The Godfather': 3.07, \n",
    "'The Godfather Part II': 4.29, \n",
    "'Raging Bull': 5.00, \n",
    "'Goodfellas':  4.89\n",
    "},\n",
    "'Robert Duvall': {\n",
    "'The Godfather': 3.80, \n",
    "'The Godfather Part II': 3.61,\n",
    "'Apocalypse Now': 4.26 \n",
    "},\n",
    "'Jack Nicholson': {\n",
    "'The Shining': 5.0,\n",
    "'One Flew Over The Cuckoos Nest': 5.0,\n",
    "'The Godfather': 2.22,\n",
    "'The Godfather Part II': 3.34\n",
    "},\n",
    "'Morgan Freeman': {\n",
    "'The Shawshank Redemption': 4.98,\n",
    "'The Shining': 4.42,\n",
    "'Apocalypse Now': 1.63,\n",
    "'The Godfather': 1.12,\n",
    "'The Godfather Part II': 2.16\n",
    "},\n",
    "'Harrison Ford': {\n",
    "'Raiders of the Lost Ark': 5.0, \n",
    "'Star Wars Episode IV - A New Hope': 4.84,\n",
    "},\n",
    "'Tom Hanks': {\n",
    "'Saving Private Ryan': 3.78, \n",
    "'The Green Mile': 4.96,\n",
    "'The Godfather': 1.04,\n",
    "'The Godfather Part II': 1.03\n",
    "},\n",
    "'Francis Ford Coppola': {\n",
    "'The Godfather': 5.00, \n",
    "'The Godfather Part II': 5.0, \n",
    "'Jaws': 1.24,\n",
    "'One Flew Over The Cuckoos Nest': 2.02\n",
    "},\n",
    "'Martin Scorsese': {\n",
    "'Raging Bull': 5.0, \n",
    "'Goodfellas': 4.87,\n",
    "'Close Encounters of the Third Kind': 1.14,\n",
    "'The Godfather': 4.00\n",
    "},\n",
    "'Diane Keaton': {\n",
    "'The Godfather': 2.98,\n",
    "'The Godfather Part II': 3.93,\n",
    "'Close Encounters of the Third Kind': 1.37\n",
    "},\n",
    "'Richard Dreyfuss': {\n",
    "'Jaws': 5.0, \n",
    "'Close Encounters of the Third Kind': 5.0,\n",
    "'The Godfather': 1.07,\n",
    "'The Godfather Part II': 0.63\n",
    "},\n",
    "'Joe Pesci': {\n",
    "'Raging Bull': 4.89, \n",
    "'Goodfellas': 5.0,\n",
    "'The Godfather': 4.87,\n",
    "'Star Wars Episode IV - A New Hope': 1.32\n",
    "}\n",
    "}"
   ]
  },
  {
   "cell_type": "code",
   "execution_count": 66,
   "metadata": {},
   "outputs": [],
   "source": [
    "# function to get common movie between users\n",
    "def get_common_movies(critic_A, critic_B):\n",
    "    return [movie for movie in review[critic_A] if movie in review[critic_B]]\n"
   ]
  },
  {
   "cell_type": "code",
   "execution_count": 67,
   "metadata": {},
   "outputs": [
    {
     "data": {
      "text/plain": [
       "['The Godfather', 'The Godfather Part II']"
      ]
     },
     "execution_count": 67,
     "metadata": {},
     "output_type": "execute_result"
    }
   ],
   "source": [
    "get_common_movies('Marlon Brando','Robert DeNiro')"
   ]
  },
  {
   "cell_type": "code",
   "execution_count": 68,
   "metadata": {},
   "outputs": [
    {
     "data": {
      "text/plain": [
       "['Saving Private Ryan', 'The Godfather', 'The Godfather Part II']"
      ]
     },
     "execution_count": 68,
     "metadata": {},
     "output_type": "execute_result"
    }
   ],
   "source": [
    "get_common_movies('Steven Spielberg','Tom Hanks')"
   ]
  },
  {
   "cell_type": "code",
   "execution_count": 69,
   "metadata": {},
   "outputs": [],
   "source": [
    "# Function to get reviews from the common movies\n",
    "def get_reviews(critic_A,critic_B):\n",
    "    common_movies = get_common_movies(critic_A,critic_B)\n",
    "    return [(review[critic_A][movie], review[critic_B][movie]) for movie in common_movies]"
   ]
  },
  {
   "cell_type": "code",
   "execution_count": 70,
   "metadata": {},
   "outputs": [
    {
     "data": {
      "text/plain": [
       "[(5.0, 3.07), (4.29, 4.29)]"
      ]
     },
     "execution_count": 70,
     "metadata": {},
     "output_type": "execute_result"
    }
   ],
   "source": [
    "get_reviews('Marlon Brando','Robert DeNiro')"
   ]
  },
  {
   "cell_type": "code",
   "execution_count": 71,
   "metadata": {},
   "outputs": [
    {
     "data": {
      "text/plain": [
       "[(4.78, 3.78), (1.25, 1.04), (1.72, 1.03)]"
      ]
     },
     "execution_count": 71,
     "metadata": {},
     "output_type": "execute_result"
    }
   ],
   "source": [
    "get_reviews('Steven Spielberg','Tom Hanks')"
   ]
  },
  {
   "cell_type": "markdown",
   "metadata": {},
   "source": [
    "### Euclidean Distance Formula for Calculating similarity"
   ]
  },
  {
   "cell_type": "code",
   "execution_count": 72,
   "metadata": {},
   "outputs": [],
   "source": [
    "# Function to get Euclidean Distance b/w 2 points \n",
    "def euclidean_distance(points):\n",
    "    squared_diffs = [(point[0] - point[1]) ** 2 for point in points]\n",
    "    summed_squared_diffs = sum(squared_diffs)\n",
    "    distance = math.sqrt(summed_squared_diffs)\n",
    "    return distance"
   ]
  },
  {
   "cell_type": "code",
   "execution_count": 73,
   "metadata": {},
   "outputs": [],
   "source": [
    "# Function to  calculate similarity more similar less the distance and vice versa\n",
    "# Added 1 for if highly similar can make the distance zero and give NotDefined Error\n",
    "def similarity(reviews):\n",
    "    return 1/ (1 + euclidean_distance(reviews))"
   ]
  },
  {
   "cell_type": "code",
   "execution_count": 74,
   "metadata": {},
   "outputs": [],
   "source": [
    "# Function to get similarity b/w 2 users\n",
    "def get_critic_similarity(critic_A, critic_B):\n",
    "    reviews = get_reviews(critic_A,critic_B)\n",
    "    return similarity(reviews)"
   ]
  },
  {
   "cell_type": "code",
   "execution_count": 75,
   "metadata": {},
   "outputs": [
    {
     "data": {
      "text/plain": [
       "0.341296928327645"
      ]
     },
     "execution_count": 75,
     "metadata": {},
     "output_type": "execute_result"
    }
   ],
   "source": [
    "get_critic_similarity('Marlon Brando','Robert DeNiro')"
   ]
  },
  {
   "cell_type": "code",
   "execution_count": 76,
   "metadata": {},
   "outputs": [
    {
     "data": {
      "text/plain": [
       "0.4478352722730117"
      ]
     },
     "execution_count": 76,
     "metadata": {},
     "output_type": "execute_result"
    }
   ],
   "source": [
    "get_critic_similarity('Steven Spielberg','Tom Hanks')"
   ]
  },
  {
   "cell_type": "code",
   "execution_count": 77,
   "metadata": {},
   "outputs": [
    {
     "data": {
      "text/plain": [
       "0.5300793497254199"
      ]
     },
     "execution_count": 77,
     "metadata": {},
     "output_type": "execute_result"
    }
   ],
   "source": [
    "get_critic_similarity('Martin Scorsese','Joe Pesci')"
   ]
  },
  {
   "cell_type": "code",
   "execution_count": 78,
   "metadata": {},
   "outputs": [],
   "source": [
    "# Function to give recommendation to users based on their reviews.\n",
    "def recommend_movies(critic, num_suggestions):\n",
    "    similarity_scores = [(get_critic_similarity(critic, other), other) for other in review if other != critic]\n",
    "    # Get similarity Scores for all the critics\n",
    "    similarity_scores.sort() \n",
    "    similarity_scores.reverse()\n",
    "    similarity_scores = similarity_scores[0:num_suggestions]\n",
    "\n",
    "    recommendations = {}\n",
    "    # Dictionary to store recommendations\n",
    "    for similarity, other in similarity_scores:\n",
    "        reviewed = review[other]\n",
    "        # Storing the review\n",
    "        for movie in reviewed:\n",
    "            if movie not in review[critic]:\n",
    "                weight = similarity * reviewed[movie]\n",
    "                # Weighing similarity with review\n",
    "                if movie in recommendations:\n",
    "                    sim, weights = recommendations[movie]\n",
    "                    recommendations[movie] = (sim + similarity, weights + [weight])\n",
    "                    # Similarity of movie along with weight\n",
    "                else:\n",
    "                    recommendations[movie] = (similarity, [weight])\n",
    "                    \n",
    "\n",
    "    for recommendation in recommendations:\n",
    "        similarity, movie = recommendations[recommendation]\n",
    "        recommendations[recommendation] = sum(movie) / similarity\n",
    "        # Normalizing weights with similarity\n",
    "\n",
    "    sorted_recommendations = sorted(recommendations.items(), key=operator.itemgetter(1), reverse=True)\n",
    "    #Sorting recommendations with weight\n",
    "    return sorted_recommendations"
   ]
  },
  {
   "cell_type": "code",
   "execution_count": 81,
   "metadata": {},
   "outputs": [
    {
     "data": {
      "text/plain": [
       "[('Raiders of the Lost Ark', 5.0),\n",
       " ('Goodfellas', 4.953067092651758),\n",
       " ('Raging Bull', 4.9297124600638975),\n",
       " ('Star Wars Episode IV - A New Hope', 3.8157055214723923),\n",
       " ('One Flew Over The Cuckoos Nest', 2.02),\n",
       " ('Close Encounters of the Third Kind', 1.14)]"
      ]
     },
     "execution_count": 81,
     "metadata": {},
     "output_type": "execute_result"
    }
   ],
   "source": [
    "recommend_movies('Marlon Brando',5)"
   ]
  },
  {
   "cell_type": "code",
   "execution_count": 80,
   "metadata": {},
   "outputs": [
    {
     "data": {
      "text/plain": [
       "[('Raiders of the Lost Ark', 5.0),\n",
       " ('Star Wars Episode IV - A New Hope', 4.92),\n",
       " ('Close Encounters of the Third Kind', 1.37)]"
      ]
     },
     "execution_count": 80,
     "metadata": {},
     "output_type": "execute_result"
    }
   ],
   "source": [
    "recommend_movies('Robert DeNiro',3)"
   ]
  },
  {
   "cell_type": "code",
   "execution_count": 82,
   "metadata": {},
   "outputs": [
    {
     "data": {
      "text/plain": [
       "[('The Shawshank Redemption', 4.928285762244913),\n",
       " ('The Green Mile', 4.87),\n",
       " ('The Shining', 4.71304734727882),\n",
       " ('Apocalypse Now', 1.63)]"
      ]
     },
     "execution_count": 82,
     "metadata": {},
     "output_type": "execute_result"
    }
   ],
   "source": [
    "recommend_movies('Steven Spielberg',4)"
   ]
  },
  {
   "cell_type": "code",
   "execution_count": 84,
   "metadata": {},
   "outputs": [
    {
     "data": {
      "text/plain": [
       "[('Raiders of the Lost Ark', 5.0), ('Star Wars Episode IV - A New Hope', 4.92)]"
      ]
     },
     "execution_count": 84,
     "metadata": {},
     "output_type": "execute_result"
    }
   ],
   "source": [
    "recommend_movies('Tom Hanks',2)"
   ]
  },
  {
   "cell_type": "code",
   "execution_count": 85,
   "metadata": {},
   "outputs": [
    {
     "data": {
      "text/plain": [
       "[('Apocalypse Now', 5.000000000000001),\n",
       " ('The Godfather Part II', 4.7280538302277435),\n",
       " ('One Flew Over The Cuckoos Nest', 2.02),\n",
       " ('Close Encounters of the Third Kind', 1.14),\n",
       " ('Jaws', 1.12)]"
      ]
     },
     "execution_count": 85,
     "metadata": {},
     "output_type": "execute_result"
    }
   ],
   "source": [
    "recommend_movies('Joe Pesci',4)"
   ]
  }
 ],
 "metadata": {
  "interpreter": {
   "hash": "2147ee33f673e5bb9c6dddc3b69b7ed017b899ada107a882194aecb2cb9b0728"
  },
  "kernelspec": {
   "display_name": "Python 3.7.10 64-bit ('demo2': conda)",
   "language": "python",
   "name": "python3"
  },
  "language_info": {
   "codemirror_mode": {
    "name": "ipython",
    "version": 3
   },
   "file_extension": ".py",
   "mimetype": "text/x-python",
   "name": "python",
   "nbconvert_exporter": "python",
   "pygments_lexer": "ipython3",
   "version": "3.7.10"
  }
 },
 "nbformat": 4,
 "nbformat_minor": 4
}
